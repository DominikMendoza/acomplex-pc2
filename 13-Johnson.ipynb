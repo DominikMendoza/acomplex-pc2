{
  "cells": [
    {
      "cell_type": "code",
      "execution_count": 11,
      "metadata": {
        "id": "uXPTTsiA7QID"
      },
      "outputs": [],
      "source": [
        "import math\n",
        "\n",
        "def bellmanFord(G, s): \n",
        "    n = len(G)\n",
        "    π = [-1]*n\n",
        "    g = [math.inf]*n\n",
        "    g[s] = 0\n",
        "\n",
        "    for _ in range(n-1):\n",
        "        for u in range(n):\n",
        "            for v, w in G[u]:\n",
        "                f = g[u] + w\n",
        "                if f < g[v]:\n",
        "                    g[v] = f\n",
        "                    π[v] = u\n",
        "    \n",
        "    for u in range(n):\n",
        "        for v, w in G[u]:\n",
        "            f = g[u] + w\n",
        "            if f < g[v]:\n",
        "                return None\n",
        "\n",
        "    return g                        "
      ]
    },
    {
      "cell_type": "code",
      "execution_count": 12,
      "metadata": {
        "id": "UAyTDQ2K7RZ7"
      },
      "outputs": [],
      "source": [
        "import heapq as hq\n",
        "\n",
        "def dijkstra(G, s, path, cost):\n",
        "  n = len(G)\n",
        "  visited = [False]*n\n",
        "\n",
        "  cost[s] = 0\n",
        "  pqueue = [(0, s)]\n",
        "  while pqueue:\n",
        "    g, u = hq.heappop(pqueue)\n",
        "    if not visited[u]:\n",
        "      visited[u] = True\n",
        "      for v, w in G[u]:\n",
        "        if not visited[v]:\n",
        "          f = g + w\n",
        "          if f < cost[v]:\n",
        "            cost[v] = f\n",
        "            path[v] = u\n",
        "            hq.heappush(pqueue, (f, v))\n",
        "\n",
        "  return path, cost"
      ]
    },
    {
      "cell_type": "code",
      "execution_count": 13,
      "metadata": {
        "id": "vs_-GvkZ7il2"
      },
      "outputs": [],
      "source": [
        "import numpy as np\n",
        "\n",
        "def johnson(G):\n",
        "    n = len(G)\n",
        "    G.append([(0, 0)])\n",
        "    g = bellmanFord(G, n)\n",
        "    if g == None: return None\n",
        "    del G[n]\n",
        "    for u in range(n):\n",
        "        for i in range(len(G[u])):\n",
        "            v, w = G[u][i]\n",
        "            w = w + g[u] - g[v]\n",
        "            G[u][i] = (v, w)\n",
        "\n",
        "    path = np.full((n, n), -1, dtype=int)\n",
        "    cost = np.full((n, n), math.inf)\n",
        "    for u in range(n):\n",
        "        dijkstra(G, u, path[u], cost[u])\n",
        "\n",
        "    return path, cost\n"
      ]
    },
    {
      "cell_type": "code",
      "execution_count": 14,
      "metadata": {
        "colab": {
          "base_uri": "https://localhost:8080/"
        },
        "id": "Xh7EIIuj88GP",
        "outputId": "07b530ed-d18a-4875-de4c-a1449d240faa"
      },
      "outputs": [
        {
          "name": "stdout",
          "output_type": "stream",
          "text": [
            "Overwriting g.g\n"
          ]
        }
      ],
      "source": [
        "%%file g.g\n",
        "1 2\n",
        "2 -1\n",
        "0 4 3 2 4 -4\n",
        "-\n",
        "-\n",
        "3 1 4 -4"
      ]
    },
    {
      "cell_type": "code",
      "execution_count": 15,
      "metadata": {
        "colab": {
          "base_uri": "https://localhost:8080/"
        },
        "id": "BpELoa189iST",
        "outputId": "3c7b5824-cf61-406e-a7ee-a82133412951"
      },
      "outputs": [
        {
          "name": "stdout",
          "output_type": "stream",
          "text": [
            "[(1, 2)]\n",
            "[(2, -1)]\n",
            "[(0, 4), (3, 2), (4, -4)]\n",
            "[]\n",
            "[]\n",
            "[(3, 1), (4, -4)]\n"
          ]
        }
      ],
      "source": [
        "with open(\"g.g\") as f:\n",
        "    G = []\n",
        "    for line in f:\n",
        "        if line.startswith('-'):\n",
        "            G.append([])\n",
        "        else:\n",
        "            nums = [int(x) for x in line.split()]\n",
        "            G.append([(nums[i], nums[i+1]) for i in range(0, len(nums), 2)])\n",
        "\n",
        "for x in G:\n",
        "  print(x)"
      ]
    },
    {
      "cell_type": "code",
      "execution_count": 16,
      "metadata": {
        "colab": {
          "base_uri": "https://localhost:8080/"
        },
        "id": "YRopPo16-eZV",
        "outputId": "bba66daa-962a-4d26-d653-b80f03eb9dce"
      },
      "outputs": [
        {
          "name": "stdout",
          "output_type": "stream",
          "text": [
            "[[-1  0  1  2  2 -1]\n",
            " [ 2 -1  1  2  2 -1]\n",
            " [ 2  0 -1  2  2 -1]\n",
            " [-1 -1 -1 -1 -1 -1]\n",
            " [-1 -1 -1 -1 -1 -1]\n",
            " [-1 -1 -1 -1 -1 -1]]\n",
            "[[ 0.  0.  0.  0.  0. inf]\n",
            " [ 5.  0.  0.  0.  0. inf]\n",
            " [ 5.  5.  0.  0.  0. inf]\n",
            " [inf inf inf  0. inf inf]\n",
            " [inf inf inf inf  0. inf]\n",
            " [inf inf inf inf inf  0.]]\n"
          ]
        }
      ],
      "source": [
        "path, cost = johnson(G)\n",
        "print(path)\n",
        "print(cost)"
      ]
    },
    {
      "cell_type": "code",
      "execution_count": null,
      "metadata": {
        "id": "XUCyybOP-lwN"
      },
      "outputs": [],
      "source": []
    }
  ],
  "metadata": {
    "colab": {
      "authorship_tag": "ABX9TyOvL/CioruL2pFfq5sjFx/b",
      "include_colab_link": true,
      "provenance": []
    },
    "kernelspec": {
      "display_name": "Python 3",
      "name": "python3"
    },
    "language_info": {
      "name": "python",
      "version": "3.11.3"
    }
  },
  "nbformat": 4,
  "nbformat_minor": 0
}
