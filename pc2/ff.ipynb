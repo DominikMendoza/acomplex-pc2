{
  "nbformat": 4,
  "nbformat_minor": 0,
  "metadata": {
    "colab": {
      "provenance": []
    },
    "kernelspec": {
      "name": "python3",
      "display_name": "Python 3"
    },
    "language_info": {
      "name": "python"
    }
  },
  "cells": [
    {
      "cell_type": "markdown",
      "source": [
        "### Ejercicio 1\n",
        "Una empresa en Lima que fabrica producto de consumo masivo posee 3 plantas de produccion A, B, C y 5 sitios de consumo T1, T2, T3, T4 y T5. Su produccion por planta y los sitios de consumo respectivos, se muestran en las siguientes tablas:\n",
        "\n",
        "- Sitios de produccion: A (5), B(4), C(7)\n",
        "- Sitios de consumo: T1(3), T2(4), T3(5), T4(2), T5(1)\n",
        "\n",
        "Finalmente cada sition solo puede servir a los siguientes:\n",
        "- A: T1, T3\n",
        "- B: T2, T4\n",
        "- C: T3, T4, T5\n",
        "\n",
        "El problema consiste en satisfacer los sistios de consumo, logrando enviar la mayor cantidad de productos de consumo masivo desde sus tres plantas de produccion a todos los sitios de consumo."
      ],
      "metadata": {
        "id": "Lb0Fcl55ht6c"
      }
    },
    {
      "cell_type": "code",
      "source": [
        "#@title nodes\n",
        "%%file g.al\n",
        "1 5 2 4 3 7\n",
        "4 3 6 5\n",
        "5 4 7 2\n",
        "6 5 7 2 8 1\n",
        "9 3\n",
        "9 4\n",
        "9 5\n",
        "9 2\n",
        "9 1\n",
        "-"
      ],
      "metadata": {
        "colab": {
          "base_uri": "https://localhost:8080/"
        },
        "cellView": "form",
        "id": "H-ozyvpclkJE",
        "outputId": "40b56343-0496-4c8b-a496-85f1a5d4e777"
      },
      "execution_count": null,
      "outputs": [
        {
          "output_type": "stream",
          "name": "stdout",
          "text": [
            "Overwriting g.al\n"
          ]
        }
      ]
    },
    {
      "cell_type": "code",
      "source": [
        "#@title dibujado\n",
        "import graphviz as gv\n",
        "def loadGraphAL(fn):\n",
        "  with open(fn) as f:\n",
        "    G = []\n",
        "    for line in f:\n",
        "      if line == '-\\n':\n",
        "        G.append([])\n",
        "      else:\n",
        "        nums = [int(x) for x in line.split()]\n",
        "        G.append([(nums[i], nums[i+1]) for i in range(0, len(nums), 2)])\n",
        "    return G\n",
        "def adjlShow(L, labels=None, directed=False, weighted=False, path=[],\n",
        "             simplepath=True,\n",
        "             layout=\"sfdp\", defaultcolor=\"gray\"):\n",
        "  g = gv.Digraph(\"G\") if directed else gv.Graph(\"G\")\n",
        "  g.graph_attr[\"layout\"] = layout\n",
        "  g.edge_attr[\"color\"] = defaultcolor\n",
        "  g.node_attr[\"color\"] = \"orangered\"\n",
        "  g.node_attr[\"width\"] = \"0.1\"\n",
        "  g.node_attr[\"height\"] = \"0.1\"\n",
        "  g.node_attr[\"fontsize\"] = \"8\"\n",
        "  g.node_attr[\"fontcolor\"] = \"mediumslateblue\"\n",
        "  g.node_attr[\"fontname\"] = \"monospace\"\n",
        "  g.edge_attr[\"fontsize\"] = \"8\"\n",
        "  g.edge_attr[\"fontname\"] = \"monospace\"\n",
        "  n = len(L)\n",
        "  for u in range(n):\n",
        "    g.node(str(u), labels[u] if labels else str(u))\n",
        "  added = set()\n",
        "  path = enumerate(path) if simplepath else path\n",
        "  for v, u in path:\n",
        "    if u != -1:\n",
        "      if weighted:\n",
        "        for vi, w in L[u]:\n",
        "          if vi == v:\n",
        "            break\n",
        "        g.edge(str(u), str(v), str(w), dir=\"forward\", penwidth=\"2\", color=\"orange\")\n",
        "      else:\n",
        "        g.edge(str(u), str(v), dir=\"forward\", penwidth=\"2\", color=\"orange\")\n",
        "      added.add(f\"{u},{v}\")\n",
        "      added.add(f\"{v},{u}\")\n",
        "  if weighted:\n",
        "    for u in range(n):\n",
        "      for v, w in L[u]:\n",
        "        if not directed and not f\"{u},{v}\" in added:\n",
        "          added.add(f\"{u},{v}\")\n",
        "          added.add(f\"{v},{u}\")\n",
        "          g.edge(str(u), str(v), str(w))\n",
        "        elif directed:\n",
        "          g.edge(str(u), str(v), str(w))\n",
        "  else:\n",
        "    for u in range(n):\n",
        "      for v in L[u]:\n",
        "        if not directed and not f\"{u},{v}\" in added:\n",
        "          added.add(f\"{u},{v}\")\n",
        "          added.add(f\"{v},{u}\")\n",
        "          g.edge(str(u), str(v))\n",
        "        elif directed:\n",
        "          g.edge(str(u), str(v))\n",
        "  return g"
      ],
      "metadata": {
        "id": "wkpN4flwm-wE"
      },
      "execution_count": null,
      "outputs": []
    },
    {
      "cell_type": "code",
      "execution_count": null,
      "metadata": {
        "id": "Q0jbChgshgeL"
      },
      "outputs": [],
      "source": [
        "#@title ejercicio1\n",
        "import math\n",
        "import numpy as np\n",
        "# Practicamente son 3 grafos\n",
        "# Primero intentar llenar los que no tienes\n",
        "def dfs(G, u, t, visited):\n",
        "    visited[u] = True\n",
        "    if u == t:\n",
        "        return [u], math.inf\n",
        "    else:\n",
        "        n = len(G)\n",
        "        for v in range(n):\n",
        "            if G[u, v] > 0 and not visited[v]:\n",
        "                path, mid = dfs(G, v, t, visited)\n",
        "                if path != None:\n",
        "                    return [u] + path, mid if mid < G[u, v] else G[u, v]\n",
        "        return None, 0\n",
        "\n",
        "def fordFulkerson(G, s, t):\n",
        "    n = len(G)\n",
        "    Gres = np.zeros((n, n))\n",
        "    for u in range(n):\n",
        "        for v, w in G[u]:\n",
        "            Gres[u, v] = w\n",
        "    Gflow = np.zeros((n, n))\n",
        "    while True:\n",
        "        path, bottleneck = dfs(Gres, s, t, [False]*n)\n",
        "\n",
        "        if path != None:\n",
        "            for i in range(1, len(path)):\n",
        "                u = path[i - 1]\n",
        "                v = path[i]\n",
        "                Gres[u, v] -= bottleneck\n",
        "                Gres[v, u] += bottleneck\n",
        "                Gflow[u, v] = Gflow[u, v] + bottleneck\n",
        "        else:\n",
        "            break\n",
        "\n",
        "    return Gflow, np.sum(Gflow[s])"
      ]
    },
    {
      "cell_type": "code",
      "source": [
        "G = loadGraphAL(\"g.al\")"
      ],
      "metadata": {
        "id": "Cuc0bDBynQbi"
      },
      "execution_count": null,
      "outputs": []
    },
    {
      "cell_type": "code",
      "source": [
        "#adjlShow(G, \"Sabc12345T\", directed=True, weighted=True, layout=\"neato\")\n",
        "adjlShow(G, \"Sabc12345T\", directed=True, weighted=True, layout=\"sfdp\")"
      ],
      "metadata": {
        "colab": {
          "base_uri": "https://localhost:8080/",
          "height": 427
        },
        "id": "PF4hmrwdnUkQ",
        "outputId": "c7db87df-43f3-4c2a-cc67-22e53be08c5a"
      },
      "execution_count": null,
      "outputs": [
        {
          "output_type": "execute_result",
          "data": {
            "image/svg+xml": "<?xml version=\"1.0\" encoding=\"UTF-8\" standalone=\"no\"?>\n<!DOCTYPE svg PUBLIC \"-//W3C//DTD SVG 1.1//EN\"\n \"http://www.w3.org/Graphics/SVG/1.1/DTD/svg11.dtd\">\n<!-- Generated by graphviz version 2.43.0 (0)\n -->\n<!-- Title: G Pages: 1 -->\n<svg width=\"315pt\" height=\"304pt\"\n viewBox=\"0.00 0.00 314.79 304.21\" xmlns=\"http://www.w3.org/2000/svg\" xmlns:xlink=\"http://www.w3.org/1999/xlink\">\n<g id=\"graph0\" class=\"graph\" transform=\"scale(1 1) rotate(0) translate(4 300.21)\">\n<title>G</title>\n<polygon fill=\"white\" stroke=\"transparent\" points=\"-4,4 -4,-300.21 310.79,-300.21 310.79,4 -4,4\"/>\n<!-- 0 -->\n<g id=\"node1\" class=\"node\">\n<title>0</title>\n<ellipse fill=\"none\" stroke=\"orangered\" cx=\"173.92\" cy=\"-154.3\" rx=\"14.7\" ry=\"12.04\"/>\n<text text-anchor=\"middle\" x=\"173.92\" y=\"-152.4\" font-family=\"monospace\" font-size=\"8.00\" fill=\"mediumslateblue\">S</text>\n</g>\n<!-- 1 -->\n<g id=\"node2\" class=\"node\">\n<title>1</title>\n<ellipse fill=\"none\" stroke=\"orangered\" cx=\"291.94\" cy=\"-146.09\" rx=\"14.7\" ry=\"12.04\"/>\n<text text-anchor=\"middle\" x=\"291.94\" y=\"-144.19\" font-family=\"monospace\" font-size=\"8.00\" fill=\"mediumslateblue\">a</text>\n</g>\n<!-- 0&#45;&gt;1 -->\n<g id=\"edge1\" class=\"edge\">\n<title>0&#45;&gt;1</title>\n<path fill=\"none\" stroke=\"gray\" d=\"M188.87,-153.26C208.56,-151.89 243.44,-149.46 267.12,-147.82\"/>\n<polygon fill=\"gray\" stroke=\"gray\" points=\"267.38,-151.31 277.11,-147.12 266.9,-144.32 267.38,-151.31\"/>\n<text text-anchor=\"middle\" x=\"225.5\" y=\"-153.14\" font-family=\"monospace\" font-size=\"8.00\">5</text>\n</g>\n<!-- 2 -->\n<g id=\"node3\" class=\"node\">\n<title>2</title>\n<ellipse fill=\"none\" stroke=\"orangered\" cx=\"42.12\" cy=\"-210.67\" rx=\"14.7\" ry=\"12.04\"/>\n<text text-anchor=\"middle\" x=\"42.12\" y=\"-208.77\" font-family=\"monospace\" font-size=\"8.00\" fill=\"mediumslateblue\">b</text>\n</g>\n<!-- 0&#45;&gt;2 -->\n<g id=\"edge2\" class=\"edge\">\n<title>0&#45;&gt;2</title>\n<path fill=\"none\" stroke=\"gray\" d=\"M160.32,-160.12C137.7,-169.79 92.17,-189.27 64.69,-201.02\"/>\n<polygon fill=\"gray\" stroke=\"gray\" points=\"63.27,-197.82 55.46,-204.97 66.03,-204.25 63.27,-197.82\"/>\n<text text-anchor=\"middle\" x=\"110\" y=\"-183.17\" font-family=\"monospace\" font-size=\"8.00\">4</text>\n</g>\n<!-- 3 -->\n<g id=\"node4\" class=\"node\">\n<title>3</title>\n<ellipse fill=\"none\" stroke=\"orangered\" cx=\"117.6\" cy=\"-47.18\" rx=\"14.7\" ry=\"12.04\"/>\n<text text-anchor=\"middle\" x=\"117.6\" y=\"-45.28\" font-family=\"monospace\" font-size=\"8.00\" fill=\"mediumslateblue\">c</text>\n</g>\n<!-- 0&#45;&gt;3 -->\n<g id=\"edge3\" class=\"edge\">\n<title>0&#45;&gt;3</title>\n<path fill=\"none\" stroke=\"gray\" d=\"M167.9,-142.83C158.45,-124.87 140.04,-89.86 128.31,-67.54\"/>\n<polygon fill=\"gray\" stroke=\"gray\" points=\"131.34,-65.78 123.59,-58.56 125.14,-69.04 131.34,-65.78\"/>\n<text text-anchor=\"middle\" x=\"145.6\" y=\"-107.79\" font-family=\"monospace\" font-size=\"8.00\">7</text>\n</g>\n<!-- 4 -->\n<g id=\"node5\" class=\"node\">\n<title>4</title>\n<ellipse fill=\"none\" stroke=\"orangered\" cx=\"241.84\" cy=\"-229.43\" rx=\"14.7\" ry=\"12.04\"/>\n<text text-anchor=\"middle\" x=\"241.84\" y=\"-227.53\" font-family=\"monospace\" font-size=\"8.00\" fill=\"mediumslateblue\">1</text>\n</g>\n<!-- 1&#45;&gt;4 -->\n<g id=\"edge4\" class=\"edge\">\n<title>1&#45;&gt;4</title>\n<path fill=\"none\" stroke=\"gray\" d=\"M285.39,-156.99C277.36,-170.34 263.61,-193.22 253.71,-209.69\"/>\n<polygon fill=\"gray\" stroke=\"gray\" points=\"250.54,-208.16 248.39,-218.54 256.54,-211.77 250.54,-208.16\"/>\n<text text-anchor=\"middle\" x=\"267.05\" y=\"-185.94\" font-family=\"monospace\" font-size=\"8.00\">3</text>\n</g>\n<!-- 6 -->\n<g id=\"node7\" class=\"node\">\n<title>6</title>\n<ellipse fill=\"none\" stroke=\"orangered\" cx=\"218.14\" cy=\"-66.87\" rx=\"14.7\" ry=\"12.04\"/>\n<text text-anchor=\"middle\" x=\"218.14\" y=\"-64.97\" font-family=\"monospace\" font-size=\"8.00\" fill=\"mediumslateblue\">3</text>\n</g>\n<!-- 1&#45;&gt;6 -->\n<g id=\"edge5\" class=\"edge\">\n<title>1&#45;&gt;6</title>\n<path fill=\"none\" stroke=\"gray\" d=\"M282.89,-136.38C270.83,-123.43 249.28,-100.3 234.37,-84.29\"/>\n<polygon fill=\"gray\" stroke=\"gray\" points=\"236.64,-81.6 227.27,-76.67 231.52,-86.37 236.64,-81.6\"/>\n<text text-anchor=\"middle\" x=\"256.13\" y=\"-112.94\" font-family=\"monospace\" font-size=\"8.00\">5</text>\n</g>\n<!-- 5 -->\n<g id=\"node6\" class=\"node\">\n<title>5</title>\n<ellipse fill=\"none\" stroke=\"orangered\" cx=\"34.52\" cy=\"-284.19\" rx=\"14.7\" ry=\"12.04\"/>\n<text text-anchor=\"middle\" x=\"34.52\" y=\"-282.29\" font-family=\"monospace\" font-size=\"8.00\" fill=\"mediumslateblue\">2</text>\n</g>\n<!-- 2&#45;&gt;5 -->\n<g id=\"edge6\" class=\"edge\">\n<title>2&#45;&gt;5</title>\n<path fill=\"none\" stroke=\"gray\" d=\"M40.86,-222.81C39.77,-233.39 38.15,-249 36.83,-261.83\"/>\n<polygon fill=\"gray\" stroke=\"gray\" points=\"33.35,-261.48 35.8,-271.79 40.31,-262.2 33.35,-261.48\"/>\n<text text-anchor=\"middle\" x=\"36.35\" y=\"-244.92\" font-family=\"monospace\" font-size=\"8.00\">4</text>\n</g>\n<!-- 7 -->\n<g id=\"node8\" class=\"node\">\n<title>7</title>\n<ellipse fill=\"none\" stroke=\"orangered\" cx=\"14.85\" cy=\"-114.32\" rx=\"14.7\" ry=\"12.04\"/>\n<text text-anchor=\"middle\" x=\"14.85\" y=\"-112.42\" font-family=\"monospace\" font-size=\"8.00\" fill=\"mediumslateblue\">4</text>\n</g>\n<!-- 2&#45;&gt;7 -->\n<g id=\"edge7\" class=\"edge\">\n<title>2&#45;&gt;7</title>\n<path fill=\"none\" stroke=\"gray\" d=\"M38.77,-198.86C34.36,-183.26 26.5,-155.49 21,-136.05\"/>\n<polygon fill=\"gray\" stroke=\"gray\" points=\"24.31,-134.9 18.22,-126.23 17.58,-136.81 24.31,-134.9\"/>\n<text text-anchor=\"middle\" x=\"27.39\" y=\"-170.05\" font-family=\"monospace\" font-size=\"8.00\">2</text>\n</g>\n<!-- 3&#45;&gt;6 -->\n<g id=\"edge8\" class=\"edge\">\n<title>3&#45;&gt;6</title>\n<path fill=\"none\" stroke=\"gray\" d=\"M132.44,-50.09C148.57,-53.25 174.6,-58.35 193.75,-62.1\"/>\n<polygon fill=\"gray\" stroke=\"gray\" points=\"193.09,-65.53 203.57,-64.02 194.43,-58.66 193.09,-65.53\"/>\n<text text-anchor=\"middle\" x=\"160.6\" y=\"-58.69\" font-family=\"monospace\" font-size=\"8.00\">5</text>\n</g>\n<!-- 3&#45;&gt;7 -->\n<g id=\"edge9\" class=\"edge\">\n<title>3&#45;&gt;7</title>\n<path fill=\"none\" stroke=\"gray\" d=\"M105.82,-54.88C88.55,-66.17 56.15,-87.34 35.04,-101.13\"/>\n<polygon fill=\"gray\" stroke=\"gray\" points=\"32.96,-98.31 26.5,-106.71 36.79,-104.17 32.96,-98.31\"/>\n<text text-anchor=\"middle\" x=\"67.93\" y=\"-80.61\" font-family=\"monospace\" font-size=\"8.00\">2</text>\n</g>\n<!-- 8 -->\n<g id=\"node9\" class=\"node\">\n<title>8</title>\n<ellipse fill=\"none\" stroke=\"orangered\" cx=\"44.69\" cy=\"-12.02\" rx=\"14.7\" ry=\"12.04\"/>\n<text text-anchor=\"middle\" x=\"44.69\" y=\"-10.12\" font-family=\"monospace\" font-size=\"8.00\" fill=\"mediumslateblue\">5</text>\n</g>\n<!-- 3&#45;&gt;8 -->\n<g id=\"edge10\" class=\"edge\">\n<title>3&#45;&gt;8</title>\n<path fill=\"none\" stroke=\"gray\" d=\"M104.57,-40.9C94.1,-35.85 79.15,-28.64 66.82,-22.69\"/>\n<polygon fill=\"gray\" stroke=\"gray\" points=\"68.14,-19.44 57.61,-18.25 65.1,-25.75 68.14,-19.44\"/>\n<text text-anchor=\"middle\" x=\"83.19\" y=\"-34.39\" font-family=\"monospace\" font-size=\"8.00\">1</text>\n</g>\n<!-- 9 -->\n<g id=\"node10\" class=\"node\">\n<title>9</title>\n<ellipse fill=\"none\" stroke=\"orangered\" cx=\"108.06\" cy=\"-150.82\" rx=\"14.7\" ry=\"12.04\"/>\n<text text-anchor=\"middle\" x=\"108.06\" y=\"-148.92\" font-family=\"monospace\" font-size=\"8.00\" fill=\"mediumslateblue\">T</text>\n</g>\n<!-- 4&#45;&gt;9 -->\n<g id=\"edge11\" class=\"edge\">\n<title>4&#45;&gt;9</title>\n<path fill=\"none\" stroke=\"gray\" d=\"M229.49,-222.18C206.6,-208.72 157.32,-179.76 129.08,-163.17\"/>\n<polygon fill=\"gray\" stroke=\"gray\" points=\"130.77,-160.1 120.38,-158.06 127.23,-166.14 130.77,-160.1\"/>\n<text text-anchor=\"middle\" x=\"176.79\" y=\"-195.27\" font-family=\"monospace\" font-size=\"8.00\">3</text>\n</g>\n<!-- 5&#45;&gt;9 -->\n<g id=\"edge12\" class=\"edge\">\n<title>5&#45;&gt;9</title>\n<path fill=\"none\" stroke=\"gray\" d=\"M40.79,-272.82C53.22,-250.28 81.13,-199.66 96.81,-171.21\"/>\n<polygon fill=\"gray\" stroke=\"gray\" points=\"100.04,-172.61 101.81,-162.16 93.91,-169.23 100.04,-172.61\"/>\n<text text-anchor=\"middle\" x=\"66.3\" y=\"-224.62\" font-family=\"monospace\" font-size=\"8.00\">4</text>\n</g>\n<!-- 6&#45;&gt;9 -->\n<g id=\"edge13\" class=\"edge\">\n<title>6&#45;&gt;9</title>\n<path fill=\"none\" stroke=\"gray\" d=\"M207.19,-75.23C188.48,-89.5 150.15,-118.72 127.02,-136.36\"/>\n<polygon fill=\"gray\" stroke=\"gray\" points=\"124.8,-133.65 118.97,-142.5 129.05,-139.22 124.8,-133.65\"/>\n<text text-anchor=\"middle\" x=\"164.6\" y=\"-108.39\" font-family=\"monospace\" font-size=\"8.00\">5</text>\n</g>\n<!-- 7&#45;&gt;9 -->\n<g id=\"edge14\" class=\"edge\">\n<title>7&#45;&gt;9</title>\n<path fill=\"none\" stroke=\"gray\" d=\"M28.6,-119.71C43.42,-125.51 67.25,-134.84 84.95,-141.77\"/>\n<polygon fill=\"gray\" stroke=\"gray\" points=\"83.97,-145.14 94.55,-145.53 86.52,-138.62 83.97,-145.14\"/>\n<text text-anchor=\"middle\" x=\"54.28\" y=\"-133.34\" font-family=\"monospace\" font-size=\"8.00\">2</text>\n</g>\n<!-- 8&#45;&gt;9 -->\n<g id=\"edge15\" class=\"edge\">\n<title>8&#45;&gt;9</title>\n<path fill=\"none\" stroke=\"gray\" d=\"M49.88,-23.38C60.51,-46.66 84.91,-100.1 98.49,-129.86\"/>\n<polygon fill=\"gray\" stroke=\"gray\" points=\"95.47,-131.66 102.8,-139.3 101.83,-128.75 95.47,-131.66\"/>\n<text text-anchor=\"middle\" x=\"71.68\" y=\"-70.22\" font-family=\"monospace\" font-size=\"8.00\">1</text>\n</g>\n</g>\n</svg>\n",
            "text/plain": [
              "<graphviz.graphs.Digraph at 0x7f3b741e9cf0>"
            ]
          },
          "metadata": {},
          "execution_count": 357
        }
      ]
    },
    {
      "cell_type": "code",
      "source": [
        "Gres, mf = fordFulkerson(G, 0, 9)\n",
        "n = len(Gres)\n",
        "G2 = [[(v, Gres[u, v]) for v in range(n) if Gres[u, v] > 0] for u in range(n)]\n",
        "G2"
      ],
      "metadata": {
        "colab": {
          "base_uri": "https://localhost:8080/"
        },
        "id": "vFVOLyafoxDB",
        "outputId": "cae4c5ef-1242-43af-e820-050cba263b5e"
      },
      "execution_count": null,
      "outputs": [
        {
          "output_type": "execute_result",
          "data": {
            "text/plain": [
              "[[(1, 5.0), (2, 4.0), (3, 6.0)],\n",
              " [(4, 3.0), (6, 2.0)],\n",
              " [(5, 4.0)],\n",
              " [(6, 3.0), (7, 2.0), (8, 1.0)],\n",
              " [(9, 3.0)],\n",
              " [(9, 4.0)],\n",
              " [(9, 5.0)],\n",
              " [(9, 2.0)],\n",
              " [(9, 1.0)],\n",
              " []]"
            ]
          },
          "metadata": {},
          "execution_count": 358
        }
      ]
    },
    {
      "cell_type": "code",
      "source": [
        "print(\"Flujo máximo:\", mf)\n",
        "#adjlShow(G2, \"Sabc12345T\", directed=True, weighted=True, layout=\"neato\", defaultcolor=\"blue\")\n",
        "adjlShow(G2, \"Sabc12345T\", directed=True, weighted=True, layout=\"sfdp\", defaultcolor=\"blue\")"
      ],
      "metadata": {
        "colab": {
          "base_uri": "https://localhost:8080/",
          "height": 456
        },
        "id": "M1Leu18_pKQI",
        "outputId": "7bf82628-176a-4e7a-a545-64676a6eef23"
      },
      "execution_count": null,
      "outputs": [
        {
          "output_type": "stream",
          "name": "stdout",
          "text": [
            "Flujo máximo: 15.0\n"
          ]
        },
        {
          "output_type": "execute_result",
          "data": {
            "image/svg+xml": "<?xml version=\"1.0\" encoding=\"UTF-8\" standalone=\"no\"?>\n<!DOCTYPE svg PUBLIC \"-//W3C//DTD SVG 1.1//EN\"\n \"http://www.w3.org/Graphics/SVG/1.1/DTD/svg11.dtd\">\n<!-- Generated by graphviz version 2.43.0 (0)\n -->\n<!-- Title: G Pages: 1 -->\n<svg width=\"387pt\" height=\"313pt\"\n viewBox=\"0.00 0.00 387.07 312.95\" xmlns=\"http://www.w3.org/2000/svg\" xmlns:xlink=\"http://www.w3.org/1999/xlink\">\n<g id=\"graph0\" class=\"graph\" transform=\"scale(1 1) rotate(0) translate(4 308.95)\">\n<title>G</title>\n<polygon fill=\"white\" stroke=\"transparent\" points=\"-4,4 -4,-308.95 383.07,-308.95 383.07,4 -4,4\"/>\n<!-- 0 -->\n<g id=\"node1\" class=\"node\">\n<title>0</title>\n<ellipse fill=\"none\" stroke=\"orangered\" cx=\"102.24\" cy=\"-138.74\" rx=\"14.7\" ry=\"12.04\"/>\n<text text-anchor=\"middle\" x=\"102.24\" y=\"-136.84\" font-family=\"monospace\" font-size=\"8.00\" fill=\"mediumslateblue\">S</text>\n</g>\n<!-- 1 -->\n<g id=\"node2\" class=\"node\">\n<title>1</title>\n<ellipse fill=\"none\" stroke=\"orangered\" cx=\"129.07\" cy=\"-12.02\" rx=\"14.7\" ry=\"12.04\"/>\n<text text-anchor=\"middle\" x=\"129.07\" y=\"-10.12\" font-family=\"monospace\" font-size=\"8.00\" fill=\"mediumslateblue\">a</text>\n</g>\n<!-- 0&#45;&gt;1 -->\n<g id=\"edge1\" class=\"edge\">\n<title>0&#45;&gt;1</title>\n<path fill=\"none\" stroke=\"blue\" d=\"M104.81,-126.59C109.33,-105.25 118.75,-60.75 124.43,-33.92\"/>\n<polygon fill=\"blue\" stroke=\"blue\" points=\"127.9,-34.46 126.55,-23.95 121.05,-33.01 127.9,-34.46\"/>\n<text text-anchor=\"middle\" x=\"107.62\" y=\"-82.86\" font-family=\"monospace\" font-size=\"8.00\">5.0</text>\n</g>\n<!-- 2 -->\n<g id=\"node3\" class=\"node\">\n<title>2</title>\n<ellipse fill=\"none\" stroke=\"orangered\" cx=\"14.85\" cy=\"-241.55\" rx=\"14.7\" ry=\"12.04\"/>\n<text text-anchor=\"middle\" x=\"14.85\" y=\"-239.65\" font-family=\"monospace\" font-size=\"8.00\" fill=\"mediumslateblue\">b</text>\n</g>\n<!-- 0&#45;&gt;2 -->\n<g id=\"edge2\" class=\"edge\">\n<title>0&#45;&gt;2</title>\n<path fill=\"none\" stroke=\"blue\" d=\"M93.54,-148.98C78.75,-166.37 48.53,-201.92 30.14,-223.55\"/>\n<polygon fill=\"blue\" stroke=\"blue\" points=\"27.32,-221.47 23.51,-231.35 32.66,-226 27.32,-221.47\"/>\n<text text-anchor=\"middle\" x=\"54.84\" y=\"-188.86\" font-family=\"monospace\" font-size=\"8.00\">4.0</text>\n</g>\n<!-- 3 -->\n<g id=\"node4\" class=\"node\">\n<title>3</title>\n<ellipse fill=\"none\" stroke=\"orangered\" cx=\"269.37\" cy=\"-152.51\" rx=\"14.7\" ry=\"12.04\"/>\n<text text-anchor=\"middle\" x=\"269.37\" y=\"-150.61\" font-family=\"monospace\" font-size=\"8.00\" fill=\"mediumslateblue\">c</text>\n</g>\n<!-- 0&#45;&gt;3 -->\n<g id=\"edge3\" class=\"edge\">\n<title>0&#45;&gt;3</title>\n<path fill=\"none\" stroke=\"blue\" d=\"M117.07,-139.96C145.74,-142.33 209.04,-147.54 244.34,-150.45\"/>\n<polygon fill=\"blue\" stroke=\"blue\" points=\"244.08,-153.94 254.33,-151.27 244.65,-146.96 244.08,-153.94\"/>\n<text text-anchor=\"middle\" x=\"173.71\" y=\"-147.8\" font-family=\"monospace\" font-size=\"8.00\">6.0</text>\n</g>\n<!-- 4 -->\n<g id=\"node5\" class=\"node\">\n<title>4</title>\n<ellipse fill=\"none\" stroke=\"orangered\" cx=\"164.08\" cy=\"-77.39\" rx=\"14.7\" ry=\"12.04\"/>\n<text text-anchor=\"middle\" x=\"164.08\" y=\"-75.49\" font-family=\"monospace\" font-size=\"8.00\" fill=\"mediumslateblue\">1</text>\n</g>\n<!-- 1&#45;&gt;4 -->\n<g id=\"edge4\" class=\"edge\">\n<title>1&#45;&gt;4</title>\n<path fill=\"none\" stroke=\"blue\" d=\"M135.01,-23.11C139.96,-32.35 147.14,-45.76 153.13,-56.94\"/>\n<polygon fill=\"blue\" stroke=\"blue\" points=\"150.19,-58.86 158,-66.02 156.36,-55.56 150.19,-58.86\"/>\n<text text-anchor=\"middle\" x=\"137.07\" y=\"-42.62\" font-family=\"monospace\" font-size=\"8.00\">3.0</text>\n</g>\n<!-- 6 -->\n<g id=\"node7\" class=\"node\">\n<title>6</title>\n<ellipse fill=\"none\" stroke=\"orangered\" cx=\"244.4\" cy=\"-59.7\" rx=\"14.7\" ry=\"12.04\"/>\n<text text-anchor=\"middle\" x=\"244.4\" y=\"-57.8\" font-family=\"monospace\" font-size=\"8.00\" fill=\"mediumslateblue\">3</text>\n</g>\n<!-- 1&#45;&gt;6 -->\n<g id=\"edge5\" class=\"edge\">\n<title>1&#45;&gt;6</title>\n<path fill=\"none\" stroke=\"blue\" d=\"M142.3,-17.49C161.66,-25.5 197.98,-40.51 221.67,-50.31\"/>\n<polygon fill=\"blue\" stroke=\"blue\" points=\"220.39,-53.56 230.97,-54.15 223.06,-47.09 220.39,-53.56\"/>\n<text text-anchor=\"middle\" x=\"174.99\" y=\"-36.5\" font-family=\"monospace\" font-size=\"8.00\">2.0</text>\n</g>\n<!-- 5 -->\n<g id=\"node6\" class=\"node\">\n<title>5</title>\n<ellipse fill=\"none\" stroke=\"orangered\" cx=\"111.44\" cy=\"-292.92\" rx=\"14.7\" ry=\"12.04\"/>\n<text text-anchor=\"middle\" x=\"111.44\" y=\"-291.02\" font-family=\"monospace\" font-size=\"8.00\" fill=\"mediumslateblue\">2</text>\n</g>\n<!-- 2&#45;&gt;5 -->\n<g id=\"edge6\" class=\"edge\">\n<title>2&#45;&gt;5</title>\n<path fill=\"none\" stroke=\"blue\" d=\"M27.48,-248.26C43.31,-256.69 70.71,-271.26 89.89,-281.46\"/>\n<polygon fill=\"blue\" stroke=\"blue\" points=\"88.33,-284.6 98.81,-286.21 91.62,-278.42 88.33,-284.6\"/>\n<text text-anchor=\"middle\" x=\"51.68\" y=\"-267.46\" font-family=\"monospace\" font-size=\"8.00\">4.0</text>\n</g>\n<!-- 3&#45;&gt;6 -->\n<g id=\"edge7\" class=\"edge\">\n<title>3&#45;&gt;6</title>\n<path fill=\"none\" stroke=\"blue\" d=\"M266.21,-140.75C262.19,-125.84 255.2,-99.84 250.21,-81.31\"/>\n<polygon fill=\"blue\" stroke=\"blue\" points=\"253.59,-80.4 247.61,-71.65 246.83,-82.22 253.59,-80.4\"/>\n<text text-anchor=\"middle\" x=\"251.21\" y=\"-113.63\" font-family=\"monospace\" font-size=\"8.00\">3.0</text>\n</g>\n<!-- 7 -->\n<g id=\"node8\" class=\"node\">\n<title>7</title>\n<ellipse fill=\"none\" stroke=\"orangered\" cx=\"364.22\" cy=\"-178.05\" rx=\"14.7\" ry=\"12.04\"/>\n<text text-anchor=\"middle\" x=\"364.22\" y=\"-176.15\" font-family=\"monospace\" font-size=\"8.00\" fill=\"mediumslateblue\">4</text>\n</g>\n<!-- 3&#45;&gt;7 -->\n<g id=\"edge8\" class=\"edge\">\n<title>3&#45;&gt;7</title>\n<path fill=\"none\" stroke=\"blue\" d=\"M283.77,-156.39C298.76,-160.42 322.49,-166.81 340.3,-171.61\"/>\n<polygon fill=\"blue\" stroke=\"blue\" points=\"339.42,-174.99 349.99,-174.21 341.24,-168.24 339.42,-174.99\"/>\n<text text-anchor=\"middle\" x=\"305.03\" y=\"-166.6\" font-family=\"monospace\" font-size=\"8.00\">2.0</text>\n</g>\n<!-- 8 -->\n<g id=\"node9\" class=\"node\">\n<title>8</title>\n<ellipse fill=\"none\" stroke=\"orangered\" cx=\"313.29\" cy=\"-267.47\" rx=\"14.7\" ry=\"12.04\"/>\n<text text-anchor=\"middle\" x=\"313.29\" y=\"-265.57\" font-family=\"monospace\" font-size=\"8.00\" fill=\"mediumslateblue\">5</text>\n</g>\n<!-- 3&#45;&gt;8 -->\n<g id=\"edge9\" class=\"edge\">\n<title>3&#45;&gt;8</title>\n<path fill=\"none\" stroke=\"blue\" d=\"M273.9,-164.38C281.27,-183.67 295.95,-222.08 305.16,-246.18\"/>\n<polygon fill=\"blue\" stroke=\"blue\" points=\"302.01,-247.74 308.85,-255.83 308.55,-245.24 302.01,-247.74\"/>\n<text text-anchor=\"middle\" x=\"282.53\" y=\"-207.88\" font-family=\"monospace\" font-size=\"8.00\">1.0</text>\n</g>\n<!-- 9 -->\n<g id=\"node10\" class=\"node\">\n<title>9</title>\n<ellipse fill=\"none\" stroke=\"orangered\" cx=\"229.22\" cy=\"-196.49\" rx=\"14.7\" ry=\"12.04\"/>\n<text text-anchor=\"middle\" x=\"229.22\" y=\"-194.59\" font-family=\"monospace\" font-size=\"8.00\" fill=\"mediumslateblue\">T</text>\n</g>\n<!-- 4&#45;&gt;9 -->\n<g id=\"edge10\" class=\"edge\">\n<title>4&#45;&gt;9</title>\n<path fill=\"none\" stroke=\"blue\" d=\"M170.33,-88.81C181.35,-108.95 204.38,-151.06 218.14,-176.24\"/>\n<polygon fill=\"blue\" stroke=\"blue\" points=\"215.22,-178.18 223.09,-185.28 221.36,-174.82 215.22,-178.18\"/>\n<text text-anchor=\"middle\" x=\"187.24\" y=\"-135.12\" font-family=\"monospace\" font-size=\"8.00\">3.0</text>\n</g>\n<!-- 5&#45;&gt;9 -->\n<g id=\"edge11\" class=\"edge\">\n<title>5&#45;&gt;9</title>\n<path fill=\"none\" stroke=\"blue\" d=\"M121.89,-284.37C141.83,-268.04 185.56,-232.24 210.61,-211.73\"/>\n<polygon fill=\"blue\" stroke=\"blue\" points=\"213.1,-214.21 218.62,-205.17 208.67,-208.79 213.1,-214.21\"/>\n<text text-anchor=\"middle\" x=\"159.25\" y=\"-250.65\" font-family=\"monospace\" font-size=\"8.00\">4.0</text>\n</g>\n<!-- 6&#45;&gt;9 -->\n<g id=\"edge12\" class=\"edge\">\n<title>6&#45;&gt;9</title>\n<path fill=\"none\" stroke=\"blue\" d=\"M243.05,-71.84C240.5,-94.8 234.94,-144.9 231.7,-174.11\"/>\n<polygon fill=\"blue\" stroke=\"blue\" points=\"228.21,-173.85 230.58,-184.18 235.17,-174.63 228.21,-173.85\"/>\n<text text-anchor=\"middle\" x=\"230.38\" y=\"-125.57\" font-family=\"monospace\" font-size=\"8.00\">5.0</text>\n</g>\n<!-- 7&#45;&gt;9 -->\n<g id=\"edge13\" class=\"edge\">\n<title>7&#45;&gt;9</title>\n<path fill=\"none\" stroke=\"blue\" d=\"M349.51,-180.06C326.59,-183.19 282.06,-189.27 254.08,-193.09\"/>\n<polygon fill=\"blue\" stroke=\"blue\" points=\"253.34,-189.66 243.9,-194.48 254.29,-196.6 253.34,-189.66\"/>\n<text text-anchor=\"middle\" x=\"294.8\" y=\"-189.17\" font-family=\"monospace\" font-size=\"8.00\">2.0</text>\n</g>\n<!-- 8&#45;&gt;9 -->\n<g id=\"edge14\" class=\"edge\">\n<title>8&#45;&gt;9</title>\n<path fill=\"none\" stroke=\"blue\" d=\"M302.98,-258.76C289.24,-247.16 264.69,-226.43 247.71,-212.1\"/>\n<polygon fill=\"blue\" stroke=\"blue\" points=\"249.51,-209.04 239.61,-205.26 245,-214.39 249.51,-209.04\"/>\n<text text-anchor=\"middle\" x=\"268.34\" y=\"-238.03\" font-family=\"monospace\" font-size=\"8.00\">1.0</text>\n</g>\n</g>\n</svg>\n",
            "text/plain": [
              "<graphviz.graphs.Digraph at 0x7f3b741e8130>"
            ]
          },
          "metadata": {},
          "execution_count": 359
        }
      ]
    },
    {
      "cell_type": "markdown",
      "source": [
        "### Ejercicio 2\n"
      ],
      "metadata": {
        "id": "2VU73v8qrLNJ"
      }
    },
    {
      "cell_type": "code",
      "source": [
        "#@title Clase grafo y disjointset\n",
        "import heapq\n",
        "import math\n",
        "from collections import defaultdict\n",
        "class DisjointSet:\n",
        "    def __init__(self, n):\n",
        "        self.rank = [0] * n\n",
        "        self.parent = [i for i in range(n)]\n",
        "    \n",
        "    def find(self, x):\n",
        "        if self.parent[x] != x:\n",
        "            self.parent[x] = self.find(self.parent[x])\n",
        "        \n",
        "        return self.parent[x]\n",
        "    \n",
        "    def union(self, x, y):\n",
        "        xroot = self.find(x)\n",
        "        yroot = self.find(y)\n",
        "        \n",
        "        if xroot == yroot:\n",
        "            return\n",
        "        \n",
        "        if self.rank[xroot] < self.rank[yroot]:\n",
        "            self.parent[xroot] = yroot\n",
        "        \n",
        "        elif self.rank[xroot] > self.rank[yroot]:\n",
        "            self.parent[yroot] = xroot\n",
        "        \n",
        "        else:\n",
        "            self.parent[yroot] = xroot\n",
        "            self.rank[xroot] += 1\n",
        "class Graph():\n",
        "    def __init__(self, V):\n",
        "        self.V = V\n",
        "        self.graph = defaultdict(list)\n",
        "    \n",
        "    def fromList(self, L):\n",
        "        V = len(L)\n",
        "        for u, e in enumerate(L):\n",
        "              for v, w in e:\n",
        "                 self.addEdge(u, v, w)\n",
        "    def getList(self):\n",
        "      result = []\n",
        "      for key, values in sorted(self.graph.items()):\n",
        "        temp_set = set()\n",
        "        for pair in values:\n",
        "            temp_set.add((pair[0], pair[1]))\n",
        "        temp_list = list(temp_set)\n",
        "        result.append(temp_list)\n",
        "      return result\n",
        "\n",
        "    def addEdge(self, src, dest, weight):\n",
        "        newNode = [dest, weight]\n",
        "        self.graph[src].insert(0, newNode)\n",
        "        newNode = [src, weight]\n",
        "        self.graph[dest].insert(0, newNode)\n",
        "\n",
        "    def PrimMST(self, start = 0):\n",
        "        V = self.V \n",
        "        visited = [False] * V\n",
        "        key = [float(\"inf\")] * V\n",
        "        parent = [-1] * V\n",
        "        minHeap = []\n",
        "\n",
        "        key[start] = 0\n",
        "        heapq.heappush(minHeap, (key[start], start))\n",
        "        while minHeap:\n",
        "            _, u = heapq.heappop(minHeap)\n",
        "            if visited[u]: continue\n",
        "            visited[u] = True\n",
        "            for v, weight in self.graph[u]:\n",
        "                if not visited[v] and weight < key[v]:\n",
        "                    key[v] = weight\n",
        "                    parent[v] = u\n",
        "                    heapq.heappush(minHeap, (weight, v))\n",
        "        cost = 0\n",
        "        for i in range(1, V):\n",
        "          #print(\"% d - % d\" % (parent[i], i))\n",
        "          print(\"%d - %d: %d\" % (parent[i], i, key[i]))\n",
        "          cost += key[i]\n",
        "        print(\"Costo total del MST para el grafo: \", cost)\n",
        "        return parent\n",
        "    \n",
        "    def KruskalMST(self):\n",
        "        n = self.V\n",
        "        ds = DisjointSet(n)\n",
        "        edges = [(w, u, v) for u in range(n) for v, w in self.graph[u]]\n",
        "        edges.sort()\n",
        "        mst = []\n",
        "        result = []\n",
        "        links = 0\n",
        "\n",
        "        for w, u, v in edges:\n",
        "            if ds.find(u) != ds.find(v):\n",
        "                ds.union(u, v)\n",
        "                result.append((u, v, w))\n",
        "                mst.append((u, v))\n",
        "                links += 1\n",
        "            if links == n - 1:\n",
        "                break\n",
        "        tot_weight = 0\n",
        "        for u, v, weight in result:\n",
        "            tot_weight += weight\n",
        "            print(\"%d - %d: %d\" % (u, v, weight))\n",
        "\n",
        "        print(\"Costo total del MST para el grafo: \", tot_weight)\n",
        "\n",
        "        return mst"
      ],
      "metadata": {
        "id": "eWFdQJ6Zr4gA"
      },
      "execution_count": null,
      "outputs": []
    },
    {
      "cell_type": "code",
      "source": [
        "edges = [(0, 1, 4), (0, 7, 8), (1, 2, 8), (1, 7, 11), (2, 3, 7), (2, 8, 2), (2, 5, 4), (3, 4, 9), (3, 5, 14), (4, 5, 10), (5, 6, 2), (6, 7, 1), (6, 8, 6), (7, 8, 8)]"
      ],
      "metadata": {
        "id": "Z9IFxSkWsoUI"
      },
      "execution_count": null,
      "outputs": []
    },
    {
      "cell_type": "code",
      "source": [
        "g = Graph(9)\n",
        "for e in edges:\n",
        "  u, v, w = e\n",
        "  g.addEdge(u, v, w)\n"
      ],
      "metadata": {
        "id": "8ZdIg_aYs5q3"
      },
      "execution_count": null,
      "outputs": []
    },
    {
      "cell_type": "code",
      "source": [
        "prntK = g.KruskalMST()\n",
        "adjlShow(g.getList(), weighted=True, path=prntK, simplepath=False)"
      ],
      "metadata": {
        "colab": {
          "base_uri": "https://localhost:8080/",
          "height": 403
        },
        "id": "o-EBrtH1tIfv",
        "outputId": "df51a250-0722-432f-dfef-a40df7db44a5"
      },
      "execution_count": null,
      "outputs": [
        {
          "output_type": "stream",
          "name": "stdout",
          "text": [
            "6 - 7: 1\n",
            "2 - 8: 2\n",
            "5 - 6: 2\n",
            "0 - 1: 4\n",
            "2 - 5: 4\n",
            "2 - 3: 7\n",
            "0 - 7: 8\n",
            "3 - 4: 9\n",
            "Costo total del MST para el grafo:  37\n"
          ]
        },
        {
          "output_type": "execute_result",
          "data": {
            "image/svg+xml": "<?xml version=\"1.0\" encoding=\"UTF-8\" standalone=\"no\"?>\n<!DOCTYPE svg PUBLIC \"-//W3C//DTD SVG 1.1//EN\"\n \"http://www.w3.org/Graphics/SVG/1.1/DTD/svg11.dtd\">\n<!-- Generated by graphviz version 2.43.0 (0)\n -->\n<!-- Title: G Pages: 1 -->\n<svg width=\"454pt\" height=\"169pt\"\n viewBox=\"0.00 0.00 453.73 169.45\" xmlns=\"http://www.w3.org/2000/svg\" xmlns:xlink=\"http://www.w3.org/1999/xlink\">\n<g id=\"graph0\" class=\"graph\" transform=\"scale(1 1) rotate(0) translate(4 165.45)\">\n<title>G</title>\n<polygon fill=\"white\" stroke=\"transparent\" points=\"-4,4 -4,-165.45 449.73,-165.45 449.73,4 -4,4\"/>\n<!-- 0 -->\n<g id=\"node1\" class=\"node\">\n<title>0</title>\n<ellipse fill=\"none\" stroke=\"orangered\" cx=\"430.88\" cy=\"-42.31\" rx=\"14.7\" ry=\"12.04\"/>\n<text text-anchor=\"middle\" x=\"430.88\" y=\"-40.41\" font-family=\"monospace\" font-size=\"8.00\" fill=\"mediumslateblue\">0</text>\n</g>\n<!-- 1 -->\n<g id=\"node2\" class=\"node\">\n<title>1</title>\n<ellipse fill=\"none\" stroke=\"orangered\" cx=\"336.41\" cy=\"-12.02\" rx=\"14.7\" ry=\"12.04\"/>\n<text text-anchor=\"middle\" x=\"336.41\" y=\"-10.12\" font-family=\"monospace\" font-size=\"8.00\" fill=\"mediumslateblue\">1</text>\n</g>\n<!-- 1&#45;&#45;0 -->\n<g id=\"edge4\" class=\"edge\">\n<title>1&#45;&#45;0</title>\n<path fill=\"none\" stroke=\"orange\" stroke-width=\"2\" d=\"M350.35,-16.49C365.28,-21.28 389.24,-28.96 407.15,-34.7\"/>\n<polygon fill=\"orange\" stroke=\"orange\" stroke-width=\"2\" points=\"406.3,-38.1 416.89,-37.82 408.43,-31.43 406.3,-38.1\"/>\n<text text-anchor=\"middle\" x=\"376.25\" y=\"-28.19\" font-family=\"monospace\" font-size=\"8.00\">4</text>\n</g>\n<!-- 2 -->\n<g id=\"node3\" class=\"node\">\n<title>2</title>\n<ellipse fill=\"none\" stroke=\"orangered\" cx=\"202.86\" cy=\"-25.77\" rx=\"14.7\" ry=\"12.04\"/>\n<text text-anchor=\"middle\" x=\"202.86\" y=\"-23.87\" font-family=\"monospace\" font-size=\"8.00\" fill=\"mediumslateblue\">2</text>\n</g>\n<!-- 1&#45;&#45;2 -->\n<g id=\"edge10\" class=\"edge\">\n<title>1&#45;&#45;2</title>\n<path fill=\"none\" stroke=\"gray\" d=\"M321.61,-13.54C295.94,-16.19 243.45,-21.59 217.73,-24.24\"/>\n<text text-anchor=\"middle\" x=\"267.17\" y=\"-21.49\" font-family=\"monospace\" font-size=\"8.00\">8</text>\n</g>\n<!-- 7 -->\n<g id=\"node8\" class=\"node\">\n<title>7</title>\n<ellipse fill=\"none\" stroke=\"orangered\" cx=\"348.23\" cy=\"-101.39\" rx=\"14.7\" ry=\"12.04\"/>\n<text text-anchor=\"middle\" x=\"348.23\" y=\"-99.49\" font-family=\"monospace\" font-size=\"8.00\" fill=\"mediumslateblue\">7</text>\n</g>\n<!-- 1&#45;&#45;7 -->\n<g id=\"edge9\" class=\"edge\">\n<title>1&#45;&#45;7</title>\n<path fill=\"none\" stroke=\"gray\" d=\"M338.01,-24.07C340.26,-41.13 344.36,-72.13 346.62,-89.24\"/>\n<text text-anchor=\"middle\" x=\"337.31\" y=\"-59.26\" font-family=\"monospace\" font-size=\"8.00\">11</text>\n</g>\n<!-- 3 -->\n<g id=\"node4\" class=\"node\">\n<title>3</title>\n<ellipse fill=\"none\" stroke=\"orangered\" cx=\"85.84\" cy=\"-18.06\" rx=\"14.7\" ry=\"12.04\"/>\n<text text-anchor=\"middle\" x=\"85.84\" y=\"-16.16\" font-family=\"monospace\" font-size=\"8.00\" fill=\"mediumslateblue\">3</text>\n</g>\n<!-- 3&#45;&#45;2 -->\n<g id=\"edge6\" class=\"edge\">\n<title>3&#45;&#45;2</title>\n<path fill=\"none\" stroke=\"orange\" stroke-width=\"2\" d=\"M100.66,-19.04C119.99,-20.31 154.09,-22.56 177.55,-24.1\"/>\n<polygon fill=\"orange\" stroke=\"orange\" stroke-width=\"2\" points=\"177.58,-27.61 187.79,-24.78 178.04,-20.63 177.58,-27.61\"/>\n<text text-anchor=\"middle\" x=\"136.6\" y=\"-24.17\" font-family=\"monospace\" font-size=\"8.00\">7</text>\n</g>\n<!-- 5 -->\n<g id=\"node6\" class=\"node\">\n<title>5</title>\n<ellipse fill=\"none\" stroke=\"orangered\" cx=\"121.17\" cy=\"-90.39\" rx=\"14.7\" ry=\"12.04\"/>\n<text text-anchor=\"middle\" x=\"121.17\" y=\"-88.49\" font-family=\"monospace\" font-size=\"8.00\" fill=\"mediumslateblue\">5</text>\n</g>\n<!-- 3&#45;&#45;5 -->\n<g id=\"edge11\" class=\"edge\">\n<title>3&#45;&#45;5</title>\n<path fill=\"none\" stroke=\"gray\" d=\"M91.36,-29.36C97.96,-42.87 108.94,-65.35 115.57,-78.93\"/>\n<text text-anchor=\"middle\" x=\"98.47\" y=\"-56.75\" font-family=\"monospace\" font-size=\"8.00\">14</text>\n</g>\n<!-- 4 -->\n<g id=\"node5\" class=\"node\">\n<title>4</title>\n<ellipse fill=\"none\" stroke=\"orangered\" cx=\"14.85\" cy=\"-68.05\" rx=\"14.7\" ry=\"12.04\"/>\n<text text-anchor=\"middle\" x=\"14.85\" y=\"-66.15\" font-family=\"monospace\" font-size=\"8.00\" fill=\"mediumslateblue\">4</text>\n</g>\n<!-- 4&#45;&#45;3 -->\n<g id=\"edge8\" class=\"edge\">\n<title>4&#45;&#45;3</title>\n<path fill=\"none\" stroke=\"orange\" stroke-width=\"2\" d=\"M26.26,-60.01C36.96,-52.48 53.18,-41.05 66.01,-32.03\"/>\n<polygon fill=\"orange\" stroke=\"orange\" stroke-width=\"2\" points=\"68.06,-34.86 74.23,-26.24 64.03,-29.13 68.06,-34.86\"/>\n<text text-anchor=\"middle\" x=\"43.63\" y=\"-48.62\" font-family=\"monospace\" font-size=\"8.00\">9</text>\n</g>\n<!-- 4&#45;&#45;5 -->\n<g id=\"edge12\" class=\"edge\">\n<title>4&#45;&#45;5</title>\n<path fill=\"none\" stroke=\"gray\" d=\"M29.63,-71.15C49.95,-75.42 86.27,-83.05 106.51,-87.31\"/>\n<text text-anchor=\"middle\" x=\"63.07\" y=\"-81.83\" font-family=\"monospace\" font-size=\"8.00\">10</text>\n</g>\n<!-- 5&#45;&#45;2 -->\n<g id=\"edge5\" class=\"edge\">\n<title>5&#45;&#45;2</title>\n<path fill=\"none\" stroke=\"orange\" stroke-width=\"2\" d=\"M131.85,-81.94C145.06,-71.49 167.78,-53.52 183.96,-40.72\"/>\n<polygon fill=\"orange\" stroke=\"orange\" stroke-width=\"2\" points=\"186.51,-43.17 192.18,-34.22 182.17,-37.68 186.51,-43.17\"/>\n<text text-anchor=\"middle\" x=\"155.41\" y=\"-63.93\" font-family=\"monospace\" font-size=\"8.00\">4</text>\n</g>\n<!-- 6 -->\n<g id=\"node7\" class=\"node\">\n<title>6</title>\n<ellipse fill=\"none\" stroke=\"orangered\" cx=\"232.52\" cy=\"-149.43\" rx=\"14.7\" ry=\"12.04\"/>\n<text text-anchor=\"middle\" x=\"232.52\" y=\"-147.53\" font-family=\"monospace\" font-size=\"8.00\" fill=\"mediumslateblue\">6</text>\n</g>\n<!-- 6&#45;&#45;5 -->\n<g id=\"edge3\" class=\"edge\">\n<title>6&#45;&#45;5</title>\n<path fill=\"none\" stroke=\"orange\" stroke-width=\"2\" d=\"M219.74,-142.66C200.95,-132.69 165.61,-113.95 142.74,-101.83\"/>\n<polygon fill=\"orange\" stroke=\"orange\" stroke-width=\"2\" points=\"144.27,-98.67 133.79,-97.08 140.99,-104.86 144.27,-98.67\"/>\n<text text-anchor=\"middle\" x=\"178.74\" y=\"-124.84\" font-family=\"monospace\" font-size=\"8.00\">2</text>\n</g>\n<!-- 8 -->\n<g id=\"node9\" class=\"node\">\n<title>8</title>\n<ellipse fill=\"none\" stroke=\"orangered\" cx=\"270.6\" cy=\"-94.98\" rx=\"14.7\" ry=\"12.04\"/>\n<text text-anchor=\"middle\" x=\"270.6\" y=\"-93.08\" font-family=\"monospace\" font-size=\"8.00\" fill=\"mediumslateblue\">8</text>\n</g>\n<!-- 6&#45;&#45;8 -->\n<g id=\"edge13\" class=\"edge\">\n<title>6&#45;&#45;8</title>\n<path fill=\"none\" stroke=\"gray\" d=\"M239.86,-138.93C246.6,-129.29 256.54,-115.08 263.28,-105.45\"/>\n<text text-anchor=\"middle\" x=\"249.07\" y=\"-124.79\" font-family=\"monospace\" font-size=\"8.00\">6</text>\n</g>\n<!-- 7&#45;&#45;0 -->\n<g id=\"edge7\" class=\"edge\">\n<title>7&#45;&#45;0</title>\n<path fill=\"none\" stroke=\"orange\" stroke-width=\"2\" d=\"M359.38,-93.42C372.69,-83.91 395.18,-67.83 411.39,-56.24\"/>\n<polygon fill=\"orange\" stroke=\"orange\" stroke-width=\"2\" points=\"413.55,-59 419.65,-50.34 409.48,-53.3 413.55,-59\"/>\n<text text-anchor=\"middle\" x=\"382.88\" y=\"-77.43\" font-family=\"monospace\" font-size=\"8.00\">8</text>\n</g>\n<!-- 7&#45;&#45;6 -->\n<g id=\"edge1\" class=\"edge\">\n<title>7&#45;&#45;6</title>\n<path fill=\"none\" stroke=\"orange\" stroke-width=\"2\" d=\"M334.95,-106.9C315.53,-114.97 279.09,-130.1 255.32,-139.97\"/>\n<polygon fill=\"orange\" stroke=\"orange\" stroke-width=\"2\" points=\"253.88,-136.77 245.99,-143.84 256.57,-143.24 253.88,-136.77\"/>\n<text text-anchor=\"middle\" x=\"292.63\" y=\"-126.03\" font-family=\"monospace\" font-size=\"8.00\">1</text>\n</g>\n<!-- 7&#45;&#45;8 -->\n<g id=\"edge14\" class=\"edge\">\n<title>7&#45;&#45;8</title>\n<path fill=\"none\" stroke=\"gray\" d=\"M333.26,-100.15C319.52,-99.02 299.26,-97.35 285.52,-96.21\"/>\n<text text-anchor=\"middle\" x=\"306.89\" y=\"-100.78\" font-family=\"monospace\" font-size=\"8.00\">8</text>\n</g>\n<!-- 8&#45;&#45;2 -->\n<g id=\"edge2\" class=\"edge\">\n<title>8&#45;&#45;2</title>\n<path fill=\"none\" stroke=\"orange\" stroke-width=\"2\" d=\"M261.18,-85.36C250.37,-74.31 232.42,-55.97 219.29,-42.55\"/>\n<polygon fill=\"orange\" stroke=\"orange\" stroke-width=\"2\" points=\"221.7,-40.01 212.2,-35.31 216.7,-44.91 221.7,-40.01\"/>\n<text text-anchor=\"middle\" x=\"237.74\" y=\"-66.56\" font-family=\"monospace\" font-size=\"8.00\">2</text>\n</g>\n</g>\n</svg>\n",
            "text/plain": [
              "<graphviz.graphs.Graph at 0x7f3b74163c40>"
            ]
          },
          "metadata": {},
          "execution_count": 363
        }
      ]
    },
    {
      "cell_type": "code",
      "source": [
        "prntP = g.PrimMST(1)\n",
        "adjlShow(g.getList(), weighted=True, path=prntP)"
      ],
      "metadata": {
        "colab": {
          "base_uri": "https://localhost:8080/",
          "height": 403
        },
        "id": "zCBClMdxty1n",
        "outputId": "360517f1-a3e1-46bc-e79a-826629ffc82c"
      },
      "execution_count": null,
      "outputs": [
        {
          "output_type": "stream",
          "name": "stdout",
          "text": [
            "-1 - 1: 0\n",
            "1 - 2: 8\n",
            "2 - 3: 7\n",
            "3 - 4: 9\n",
            "2 - 5: 4\n",
            "5 - 6: 2\n",
            "6 - 7: 1\n",
            "2 - 8: 2\n",
            "El conjunto de líneas de fibra óptica tendria un costo de:  33\n"
          ]
        },
        {
          "output_type": "execute_result",
          "data": {
            "image/svg+xml": "<?xml version=\"1.0\" encoding=\"UTF-8\" standalone=\"no\"?>\n<!DOCTYPE svg PUBLIC \"-//W3C//DTD SVG 1.1//EN\"\n \"http://www.w3.org/Graphics/SVG/1.1/DTD/svg11.dtd\">\n<!-- Generated by graphviz version 2.43.0 (0)\n -->\n<!-- Title: G Pages: 1 -->\n<svg width=\"454pt\" height=\"169pt\"\n viewBox=\"0.00 0.00 453.71 169.35\" xmlns=\"http://www.w3.org/2000/svg\" xmlns:xlink=\"http://www.w3.org/1999/xlink\">\n<g id=\"graph0\" class=\"graph\" transform=\"scale(1 1) rotate(0) translate(4 165.35)\">\n<title>G</title>\n<polygon fill=\"white\" stroke=\"transparent\" points=\"-4,4 -4,-165.35 449.71,-165.35 449.71,4 -4,4\"/>\n<!-- 0 -->\n<g id=\"node1\" class=\"node\">\n<title>0</title>\n<ellipse fill=\"none\" stroke=\"orangered\" cx=\"430.86\" cy=\"-42.21\" rx=\"14.7\" ry=\"12.04\"/>\n<text text-anchor=\"middle\" x=\"430.86\" y=\"-40.31\" font-family=\"monospace\" font-size=\"8.00\" fill=\"mediumslateblue\">0</text>\n</g>\n<!-- 7 -->\n<g id=\"node8\" class=\"node\">\n<title>7</title>\n<ellipse fill=\"none\" stroke=\"orangered\" cx=\"348.31\" cy=\"-101.27\" rx=\"14.7\" ry=\"12.04\"/>\n<text text-anchor=\"middle\" x=\"348.31\" y=\"-99.37\" font-family=\"monospace\" font-size=\"8.00\" fill=\"mediumslateblue\">7</text>\n</g>\n<!-- 0&#45;&#45;7 -->\n<g id=\"edge9\" class=\"edge\">\n<title>0&#45;&#45;7</title>\n<path fill=\"none\" stroke=\"gray\" d=\"M419.73,-50.18C403.97,-61.45 375.34,-81.93 359.53,-93.24\"/>\n<text text-anchor=\"middle\" x=\"387.13\" y=\"-74.31\" font-family=\"monospace\" font-size=\"8.00\">8</text>\n</g>\n<!-- 1 -->\n<g id=\"node2\" class=\"node\">\n<title>1</title>\n<ellipse fill=\"none\" stroke=\"orangered\" cx=\"336.28\" cy=\"-12.02\" rx=\"14.7\" ry=\"12.04\"/>\n<text text-anchor=\"middle\" x=\"336.28\" y=\"-10.12\" font-family=\"monospace\" font-size=\"8.00\" fill=\"mediumslateblue\">1</text>\n</g>\n<!-- 1&#45;&#45;0 -->\n<g id=\"edge1\" class=\"edge\">\n<title>1&#45;&#45;0</title>\n<path fill=\"none\" stroke=\"orange\" stroke-width=\"2\" d=\"M350.24,-16.48C365.18,-21.25 389.17,-28.9 407.1,-34.63\"/>\n<polygon fill=\"orange\" stroke=\"orange\" stroke-width=\"2\" points=\"406.26,-38.03 416.85,-37.74 408.38,-31.36 406.26,-38.03\"/>\n<text text-anchor=\"middle\" x=\"376.17\" y=\"-28.15\" font-family=\"monospace\" font-size=\"8.00\">4</text>\n</g>\n<!-- 2 -->\n<g id=\"node3\" class=\"node\">\n<title>2</title>\n<ellipse fill=\"none\" stroke=\"orangered\" cx=\"202.87\" cy=\"-25.76\" rx=\"14.7\" ry=\"12.04\"/>\n<text text-anchor=\"middle\" x=\"202.87\" y=\"-23.86\" font-family=\"monospace\" font-size=\"8.00\" fill=\"mediumslateblue\">2</text>\n</g>\n<!-- 1&#45;&#45;2 -->\n<g id=\"edge2\" class=\"edge\">\n<title>1&#45;&#45;2</title>\n<path fill=\"none\" stroke=\"orange\" stroke-width=\"2\" d=\"M321.49,-13.54C298.85,-15.88 255.33,-20.36 227.77,-23.2\"/>\n<polygon fill=\"orange\" stroke=\"orange\" stroke-width=\"2\" points=\"227.31,-19.73 217.72,-24.23 228.03,-26.69 227.31,-19.73\"/>\n<text text-anchor=\"middle\" x=\"272.13\" y=\"-20.97\" font-family=\"monospace\" font-size=\"8.00\">8</text>\n</g>\n<!-- 1&#45;&#45;7 -->\n<g id=\"edge10\" class=\"edge\">\n<title>1&#45;&#45;7</title>\n<path fill=\"none\" stroke=\"gray\" d=\"M337.9,-24.06C340.2,-41.09 344.38,-72.05 346.68,-89.14\"/>\n<text text-anchor=\"middle\" x=\"337.29\" y=\"-59.2\" font-family=\"monospace\" font-size=\"8.00\">11</text>\n</g>\n<!-- 3 -->\n<g id=\"node4\" class=\"node\">\n<title>3</title>\n<ellipse fill=\"none\" stroke=\"orangered\" cx=\"85.96\" cy=\"-17.91\" rx=\"14.7\" ry=\"12.04\"/>\n<text text-anchor=\"middle\" x=\"85.96\" y=\"-16.01\" font-family=\"monospace\" font-size=\"8.00\" fill=\"mediumslateblue\">3</text>\n</g>\n<!-- 2&#45;&#45;3 -->\n<g id=\"edge3\" class=\"edge\">\n<title>2&#45;&#45;3</title>\n<path fill=\"none\" stroke=\"orange\" stroke-width=\"2\" d=\"M188.06,-24.77C168.76,-23.47 134.69,-21.18 111.25,-19.61\"/>\n<polygon fill=\"orange\" stroke=\"orange\" stroke-width=\"2\" points=\"111.23,-16.1 101.02,-18.92 110.76,-23.09 111.23,-16.1\"/>\n<text text-anchor=\"middle\" x=\"147.16\" y=\"-24.79\" font-family=\"monospace\" font-size=\"8.00\">7</text>\n</g>\n<!-- 5 -->\n<g id=\"node6\" class=\"node\">\n<title>5</title>\n<ellipse fill=\"none\" stroke=\"orangered\" cx=\"121.09\" cy=\"-90.28\" rx=\"14.7\" ry=\"12.04\"/>\n<text text-anchor=\"middle\" x=\"121.09\" y=\"-88.38\" font-family=\"monospace\" font-size=\"8.00\" fill=\"mediumslateblue\">5</text>\n</g>\n<!-- 2&#45;&#45;5 -->\n<g id=\"edge5\" class=\"edge\">\n<title>2&#45;&#45;5</title>\n<path fill=\"none\" stroke=\"orange\" stroke-width=\"2\" d=\"M192.18,-34.2C178.95,-44.63 156.21,-62.57 140.01,-75.35\"/>\n<polygon fill=\"orange\" stroke=\"orange\" stroke-width=\"2\" points=\"137.46,-72.9 131.78,-81.84 141.8,-78.4 137.46,-72.9\"/>\n<text text-anchor=\"middle\" x=\"163.59\" y=\"-57.37\" font-family=\"monospace\" font-size=\"8.00\">4</text>\n</g>\n<!-- 8 -->\n<g id=\"node9\" class=\"node\">\n<title>8</title>\n<ellipse fill=\"none\" stroke=\"orangered\" cx=\"270.58\" cy=\"-95.03\" rx=\"14.7\" ry=\"12.04\"/>\n<text text-anchor=\"middle\" x=\"270.58\" y=\"-93.13\" font-family=\"monospace\" font-size=\"8.00\" fill=\"mediumslateblue\">8</text>\n</g>\n<!-- 2&#45;&#45;8 -->\n<g id=\"edge8\" class=\"edge\">\n<title>2&#45;&#45;8</title>\n<path fill=\"none\" stroke=\"orange\" stroke-width=\"2\" d=\"M212.28,-35.39C223.1,-46.46 241.03,-64.81 254.16,-78.23\"/>\n<polygon fill=\"orange\" stroke=\"orange\" stroke-width=\"2\" points=\"251.75,-80.77 261.24,-85.48 256.76,-75.88 251.75,-80.77\"/>\n<text text-anchor=\"middle\" x=\"230.72\" y=\"-59.41\" font-family=\"monospace\" font-size=\"8.00\">2</text>\n</g>\n<!-- 4 -->\n<g id=\"node5\" class=\"node\">\n<title>4</title>\n<ellipse fill=\"none\" stroke=\"orangered\" cx=\"14.85\" cy=\"-67.99\" rx=\"14.7\" ry=\"12.04\"/>\n<text text-anchor=\"middle\" x=\"14.85\" y=\"-66.09\" font-family=\"monospace\" font-size=\"8.00\" fill=\"mediumslateblue\">4</text>\n</g>\n<!-- 3&#45;&#45;4 -->\n<g id=\"edge4\" class=\"edge\">\n<title>3&#45;&#45;4</title>\n<path fill=\"none\" stroke=\"orange\" stroke-width=\"2\" d=\"M74.54,-25.96C63.82,-33.51 47.56,-44.96 34.72,-54\"/>\n<polygon fill=\"orange\" stroke=\"orange\" stroke-width=\"2\" points=\"32.64,-51.18 26.48,-59.8 36.67,-56.91 32.64,-51.18\"/>\n<text text-anchor=\"middle\" x=\"52.13\" y=\"-42.58\" font-family=\"monospace\" font-size=\"8.00\">9</text>\n</g>\n<!-- 3&#45;&#45;5 -->\n<g id=\"edge11\" class=\"edge\">\n<title>3&#45;&#45;5</title>\n<path fill=\"none\" stroke=\"gray\" d=\"M91.45,-29.22C98.01,-42.74 108.93,-65.23 115.52,-78.81\"/>\n<text text-anchor=\"middle\" x=\"98.49\" y=\"-56.62\" font-family=\"monospace\" font-size=\"8.00\">14</text>\n</g>\n<!-- 4&#45;&#45;5 -->\n<g id=\"edge12\" class=\"edge\">\n<title>4&#45;&#45;5</title>\n<path fill=\"none\" stroke=\"gray\" d=\"M29.62,-71.09C49.92,-75.35 86.21,-82.96 106.44,-87.21\"/>\n<text text-anchor=\"middle\" x=\"63.03\" y=\"-81.75\" font-family=\"monospace\" font-size=\"8.00\">10</text>\n</g>\n<!-- 6 -->\n<g id=\"node7\" class=\"node\">\n<title>6</title>\n<ellipse fill=\"none\" stroke=\"orangered\" cx=\"232.36\" cy=\"-149.33\" rx=\"14.7\" ry=\"12.04\"/>\n<text text-anchor=\"middle\" x=\"232.36\" y=\"-147.43\" font-family=\"monospace\" font-size=\"8.00\" fill=\"mediumslateblue\">6</text>\n</g>\n<!-- 5&#45;&#45;6 -->\n<g id=\"edge6\" class=\"edge\">\n<title>5&#45;&#45;6</title>\n<path fill=\"none\" stroke=\"orange\" stroke-width=\"2\" d=\"M133.85,-97.05C152.63,-107.02 187.95,-125.76 210.8,-137.89\"/>\n<polygon fill=\"orange\" stroke=\"orange\" stroke-width=\"2\" points=\"209.27,-141.04 219.75,-142.63 212.55,-134.85 209.27,-141.04\"/>\n<text text-anchor=\"middle\" x=\"169.83\" y=\"-120.07\" font-family=\"monospace\" font-size=\"8.00\">2</text>\n</g>\n<!-- 6&#45;&#45;7 -->\n<g id=\"edge7\" class=\"edge\">\n<title>6&#45;&#45;7</title>\n<path fill=\"none\" stroke=\"orange\" stroke-width=\"2\" d=\"M245.66,-143.81C265.13,-135.74 301.65,-120.61 325.47,-110.74\"/>\n<polygon fill=\"orange\" stroke=\"orange\" stroke-width=\"2\" points=\"326.91,-113.92 334.81,-106.86 324.23,-107.46 326.91,-113.92\"/>\n<text text-anchor=\"middle\" x=\"283.06\" y=\"-129.87\" font-family=\"monospace\" font-size=\"8.00\">1</text>\n</g>\n<!-- 6&#45;&#45;8 -->\n<g id=\"edge13\" class=\"edge\">\n<title>6&#45;&#45;8</title>\n<path fill=\"none\" stroke=\"gray\" d=\"M239.73,-138.86C246.41,-129.37 256.22,-115.43 262.97,-105.84\"/>\n<text text-anchor=\"middle\" x=\"248.85\" y=\"-124.95\" font-family=\"monospace\" font-size=\"8.00\">6</text>\n</g>\n<!-- 7&#45;&#45;8 -->\n<g id=\"edge14\" class=\"edge\">\n<title>7&#45;&#45;8</title>\n<path fill=\"none\" stroke=\"gray\" d=\"M333.33,-100.06C319.56,-98.96 299.27,-97.33 285.52,-96.23\"/>\n<text text-anchor=\"middle\" x=\"306.92\" y=\"-100.74\" font-family=\"monospace\" font-size=\"8.00\">8</text>\n</g>\n</g>\n</svg>\n",
            "text/plain": [
              "<graphviz.graphs.Graph at 0x7f3b74162470>"
            ]
          },
          "metadata": {},
          "execution_count": 364
        }
      ]
    }
  ]
}