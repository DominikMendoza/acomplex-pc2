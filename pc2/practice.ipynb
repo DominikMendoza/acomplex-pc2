{
  "nbformat": 4,
  "nbformat_minor": 0,
  "metadata": {
    "colab": {
      "provenance": []
    },
    "kernelspec": {
      "name": "python3",
      "display_name": "Python 3"
    },
    "language_info": {
      "name": "python"
    }
  },
  "cells": [
    {
      "cell_type": "markdown",
      "source": [
        "### Utilizamos UFDS para resolver un problema muy especifico: los componentes conectados. De igual forma podemos utilizar el algoitmo de Kosaraju para la solucion de este problema.\n",
        "    Falso\n",
        "\n",
        "### Asi como se puede obtener varios arboles de expansion minima a partir de un grafo no dirigido ponderado, es factible tambien encontrar mas de un arbol de expansion con el mismo peso minimo (peso total de los bordes sea el minimo posible)\n",
        "    Verdadero\n",
        "\n",
        "### Elija la(s) caracteristica(s) correcta(s) del Algoritmo Ford — Fulkerson:\n",
        "\n",
        "A) Considera como ruta/camino, a toda trayectoria desde el nodo fuente “s” al nodo sumidero “t” que puede conducir mas flujo.\n",
        "\n",
        "B) Lleva un control de la capacidad residual de cada arista.\n",
        "\n",
        "C) Encuentra una ruta desde el nodo de origen (s) al nodo sumidero (t) enviando el flujo a lo largo de cualquier borde o arista sin exceder sus capacidades.\n",
        "\n",
        "D) Calcula el flujo maximo (flujo total) que sale de la fuente, que es el flujo total que entra en el sumidero.\n",
        "\n",
        "    A, B y C\n",
        "\n",
        "### Marque una o mas respuestas que considere correctas.\n",
        "\n",
        "A. Kruskal y PRIM son algoritmos de enfoque voraz 0 codicioso.\n",
        "\n",
        "B. Kruskal y PRIM consultan por la formacidn de ciclos.\n",
        "\n",
        "C. PRIM ordena las aristas del grafo G, de menor a mayor antes de verificar si al considerarla conformara un ciclo.\n",
        "\n",
        "D. PRIM verifica y selecciona los vértices de menor costo antes de consultar por la formacién de ciclo.\n",
        "\n",
        "E. Todas las afirmaciones son correctas.\n",
        "\n",
        "    A, B, C y D"
      ],
      "metadata": {
        "id": "nVPMrbzR6tJO"
      }
    },
    {
      "cell_type": "markdown",
      "source": [
        "Pregunta 1\n",
        "\n",
        "Sobre los algoritmos de estrategias UNION-FIND, seleccione la afirmación INCORRECTA:\n"
      ],
      "metadata": {
        "id": "7ysvWT6wpREJ"
      }
    },
    {
      "cell_type": "code",
      "source": [
        "•\tQuick unión intenta resolver el problema de conectividad dinámica"
      ],
      "metadata": {
        "id": "k4vU8WRZpVlA"
      },
      "execution_count": null,
      "outputs": []
    },
    {
      "cell_type": "markdown",
      "source": [
        "Pregunta 2\n",
        "\n",
        "Señale si es verdadero o falso TODO lo que se afirma a continuación con respecto a la definición de un árbol.\n",
        "\n",
        "Un árbol es un tipo de grafo que: \n",
        "\n",
        "•\tTiene un nodo único llamado raíz\n",
        "\n",
        "•\tTiene una estructura no lineal \n",
        "\n",
        "•\tTiene una cantidad de aristas equivalente a un total de nodos -1 aristas\n",
        "\n",
        "•\tTiene ciclos entre sus nodos\n"
      ],
      "metadata": {
        "id": "qMJ9SF1RpfFV"
      }
    },
    {
      "cell_type": "code",
      "source": [
        "FALSO"
      ],
      "metadata": {
        "id": "OfD4DD4PpnvH"
      },
      "execution_count": null,
      "outputs": []
    },
    {
      "cell_type": "markdown",
      "source": [
        "Pregunta 3\n",
        "\n",
        "Los algoritmos KRUSKAL y PRIM permiten construir un árbol de expansión mínimo (MST) a partir de un grafo no dirigido ponderado. Señale si es verdadero o falso la siguiente afirmación:\n",
        "\n",
        "•\tEn el algoritmo de KRUSKAL, iniciamos seleccionando la arista de menor coste, en cambio, en el algoritmo PRIM, comenzaremos eligiendo un nodo arbitrario. Y en ambos algoritmos, durante cada interacción seleccionaremos la arista con el peso más bajo sin que se forme un ciclo.  \n"
      ],
      "metadata": {
        "id": "QYODS1TRpo-_"
      }
    },
    {
      "cell_type": "code",
      "source": [
        "VERDADERO"
      ],
      "metadata": {
        "id": "Et243fbEpvF4"
      },
      "execution_count": null,
      "outputs": []
    },
    {
      "cell_type": "markdown",
      "source": [
        "Pregunta 4\n",
        "\n",
        "Marque las respuestas que considere INCORRECTAS:\n"
      ],
      "metadata": {
        "id": "cDCQPwgCpznH"
      }
    },
    {
      "cell_type": "code",
      "source": [
        "•\tUn MST es un subconjunto de los bordes ponderados de un grafo dirigido que conecta todos los vértices entre sí \n",
        "  y que cumple con todas las características de ser un grafo de tipo árbol."
      ],
      "metadata": {
        "id": "JUC1wsHOp3HW"
      },
      "execution_count": null,
      "outputs": []
    },
    {
      "cell_type": "markdown",
      "source": [
        "Pregunta 5\n",
        "\n",
        "Elija las características correctas del ALGORITMO FORD-FULKERSON:\n"
      ],
      "metadata": {
        "id": "qvAO95NVvOyp"
      }
    },
    {
      "cell_type": "code",
      "source": [
        "•\tA) Considera como ruta/camino de aumento, a toda trayectoria desde el nodo fuente “S” al nodo sumidero “T” que puede conducir más flujo.\n",
        "•\tB) Lleva un control de capacidad residual de cada arista\n",
        "•\tC) Calcula el flujo máximo (flujo total) que sale de la fuente, que es el flujo total que entra en el sumidero.\n",
        "•\tD) Encuentra una ruta desde el nodo de origen al sumidero enviando el flujo a lo largo de cualquier borde o arista sin exceder sus capacidades.  \n"
      ],
      "metadata": {
        "id": "a6A2gS37vT9d"
      },
      "execution_count": null,
      "outputs": []
    },
    {
      "cell_type": "markdown",
      "source": [
        "Pregunta 6\n",
        "\n",
        "Responda en VERDERO o FALSO la siguiente afirmación:\n",
        "\n",
        "Utilizamos UFDS para resolver un problema muy específico: los componentes conectados, De igual forma podemos utilizar el algoritmo KOSARAJU para la solución de este problema.\n"
      ],
      "metadata": {
        "id": "6TinFabdvZgO"
      }
    },
    {
      "cell_type": "code",
      "source": [
        "FALSO"
      ],
      "metadata": {
        "id": "1qNuRuqEvc97"
      },
      "execution_count": null,
      "outputs": []
    },
    {
      "cell_type": "markdown",
      "source": [
        "Pregunta 7\n",
        "\n",
        "Responda en VERDERO o FALSO la siguiente afirmación:\n",
        "\n",
        "Así como se puede obtener varios árboles de expansión mínima a partir de un grafo no dirigido ponderado, es factible también encontrar más un árbol de expansión con el mismo peso mínimo (peso total de los bordes sea el mínimo posible).\n"
      ],
      "metadata": {
        "id": "k44amzu_vfd1"
      }
    },
    {
      "cell_type": "code",
      "source": [
        "FALSO"
      ],
      "metadata": {
        "id": "MrYuKj_Gv4GC"
      },
      "execution_count": null,
      "outputs": []
    },
    {
      "cell_type": "markdown",
      "source": [
        "Pregunta 8\n",
        "\n",
        "Marque una o más respuestas que considere CORRECTAS:\n",
        "\n",
        "•\tA) Kruskal y Prim son algoritmos de enfoque voraz o codicioso.\n",
        "\n",
        "•\tB) Kruskal y Prim consultan por la formación de ciclos \n",
        "\n",
        "•\tC) PRIM ordena las aristas del grafo G, de menor a mayor antes de verificar si al considerarla conformará un ciclo \n",
        "\n",
        "•\tD) PRIM verifica y selecciona los vértices de menor costo antes de consultar por la formación de ciclo \n",
        "\n",
        "•\tE) Todas las afirmaciones son correctas  \n"
      ],
      "metadata": {
        "id": "1uYU3xIVv_H2"
      }
    },
    {
      "cell_type": "code",
      "source": [
        "A, B, D"
      ],
      "metadata": {
        "id": "897WiffQwCOf"
      },
      "execution_count": null,
      "outputs": []
    },
    {
      "cell_type": "code",
      "source": [
        "FALSA------"
      ],
      "metadata": {
        "id": "b1QurF2w3t3j"
      },
      "execution_count": null,
      "outputs": []
    },
    {
      "cell_type": "markdown",
      "source": [
        "--------------------------------------------------------------------------------------\n"
      ],
      "metadata": {
        "id": "_fKd2X0m20nW"
      }
    }
  ]
}