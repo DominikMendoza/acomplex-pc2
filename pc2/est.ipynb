{
 "cells": [
  {
   "cell_type": "code",
   "execution_count": 2,
   "metadata": {},
   "outputs": [
    {
     "name": "stdout",
     "output_type": "stream",
     "text": [
      "[2825, 4366, 4588, 4623, 6299, 6774, 7287]\n"
     ]
    }
   ],
   "source": [
    "arr = [6774, 4623, 4588, 4366, 2825, 6299, 7287]\n",
    "arr.sort()\n",
    "print(arr)"
   ]
  },
  {
   "cell_type": "code",
   "execution_count": 3,
   "metadata": {},
   "outputs": [
    {
     "name": "stdout",
     "output_type": "stream",
     "text": [
      "[533, 3948, 4748, 5294, 5922, 6171]\n",
      "4436.0\n"
     ]
    }
   ],
   "source": [
    "arr = [3948, 533, 5294, 5922, 4748, 6171]\n",
    "arr.sort()\n",
    "print(arr)\n",
    "suma = 0;\n",
    "for a in arr:\n",
    "    suma += a\n",
    "print(suma/len(arr))\n"
   ]
  }
 ],
 "metadata": {
  "kernelspec": {
   "display_name": "Python 3",
   "language": "python",
   "name": "python3"
  },
  "language_info": {
   "codemirror_mode": {
    "name": "ipython",
    "version": 3
   },
   "file_extension": ".py",
   "mimetype": "text/x-python",
   "name": "python",
   "nbconvert_exporter": "python",
   "pygments_lexer": "ipython3",
   "version": "3.11.3"
  },
  "orig_nbformat": 4
 },
 "nbformat": 4,
 "nbformat_minor": 2
}
