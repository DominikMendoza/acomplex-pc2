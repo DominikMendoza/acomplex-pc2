{
 "cells": [
  {
   "cell_type": "code",
   "execution_count": 389,
   "metadata": {},
   "outputs": [
    {
     "name": "stdout",
     "output_type": "stream",
     "text": [
      "1.2\n",
      "{1: [2, 3], 2: [1, 3], 3: [2, 1]}\n",
      "{1: {2: {'w': 0.5}, 3: {'w': 0.8}}, 2: {1: {'w': 0.5}, 3: {'w': 1.2}}, 3: {2: {'w': 1.2}, 1: {'w': 0.8}}}\n",
      "[(1, 2, {'w': 0.5}), (1, 3, {'w': 0.8}), (2, 3, {'w': 1.2})]\n"
     ]
    }
   ],
   "source": [
    "import networkx as nx\n",
    "import graphviz as gv\n",
    "\n",
    "G = nx.Graph()\n",
    "\n",
    "G.add_edge(1, 2, w=0.5)\n",
    "G.add_edge(2, 3, w=1.2)\n",
    "G.add_edge(1, 3, w=0.8)\n",
    "\n",
    "print(G.get_edge_data(2, 3)['w'])\n",
    "print(nx.to_dict_of_lists(G))\n",
    "print(nx.to_dict_of_dicts(G))\n",
    "print(G.edges.data())"
   ]
  },
  {
   "cell_type": "code",
   "execution_count": 390,
   "metadata": {},
   "outputs": [],
   "source": [
    "def readAdjl(fn, weighted=False):\n",
    "    Gr = nx.Graph()\n",
    "    with open(fn) as f:\n",
    "        for line in f:\n",
    "            line = line.strip().split()\n",
    "            if weighted:\n",
    "                Gr.add_edge(int(line[0]), int(line[1]), w = float(line[2]))\n",
    "            else:\n",
    "                Gr.add_edge(int(line[0]), int(line[1]))\n",
    "    return Gr"
   ]
  },
  {
   "cell_type": "code",
   "execution_count": 391,
   "metadata": {},
   "outputs": [],
   "source": [
    "def readMatrix(fn, weighted=False):\n",
    "    Gr = nx.Graph()\n",
    "    with open(fn) as f:\n",
    "        for i, line in enumerate(f):\n",
    "            line = line.strip().split()\n",
    "            for j, value in enumerate(line):\n",
    "                if (value == '0'):\n",
    "                    continue\n",
    "                if weighted:\n",
    "                    Gr.add_edge(i + 1, j + 1, w=float(value))\n",
    "                else:\n",
    "                    Gr.add_edge(i + 1, j + 1)\n",
    "    return Gr"
   ]
  },
  {
   "cell_type": "code",
   "execution_count": 392,
   "metadata": {},
   "outputs": [
    {
     "name": "stdout",
     "output_type": "stream",
     "text": [
      "Graph with 3 nodes and 3 edges\n",
      "[(1, 2, {'w': 0.5}), (1, 3, {'w': 0.8}), (2, 3, {'w': 1.2})]\n"
     ]
    }
   ],
   "source": [
    "F = readAdjl('data/adjl.txt', True)\n",
    "print(F)\n",
    "print(F.edges.data())"
   ]
  },
  {
   "cell_type": "code",
   "execution_count": 393,
   "metadata": {},
   "outputs": [
    {
     "name": "stdout",
     "output_type": "stream",
     "text": [
      "[(1, 2, {'w': 1.0}), (1, 3, {'w': 1.0}), (2, 3, {'w': 1.0}), (2, 4, {'w': 1.0})]\n"
     ]
    }
   ],
   "source": [
    "H = readMatrix('data/matrix.txt', True)\n",
    "print(H.edges.data())"
   ]
  },
  {
   "cell_type": "code",
   "execution_count": 394,
   "metadata": {},
   "outputs": [],
   "source": [
    "def adjlShow(G, labels=None, directed=False, weighted=False, path=[], simplepath=True, layout=\"sfdp\", defaultcolor=\"gray\"):\n",
    "  g = gv.Digraph(\"G\") if directed else gv.Graph(\"G\")\n",
    "  g.graph_attr[\"layout\"] = layout\n",
    "  g.edge_attr[\"color\"] = defaultcolor\n",
    "  g.node_attr[\"color\"] = \"orangered\"\n",
    "  g.node_attr[\"width\"] = \"0.1\"\n",
    "  g.node_attr[\"height\"] = \"0.1\"\n",
    "  g.node_attr[\"fontsize\"] = \"8\"\n",
    "  g.node_attr[\"fontcolor\"] = \"mediumslateblue\"\n",
    "  g.node_attr[\"fontname\"] = \"monospace\"\n",
    "  g.edge_attr[\"fontsize\"] = \"8\"\n",
    "  g.edge_attr[\"fontname\"] = \"monospace\"\n",
    "  added = set()\n",
    "  for node in G.nodes():\n",
    "    g.node(str(node), labels[node - 1] if labels else str(node))\n",
    "  def _addEdge(u, v, weighted):\n",
    "      if weighted:\n",
    "        g.edge(str(u), str(v), str(G.get_edge_data(u, v)['w']), dir=\"forward\", penwidth=\"2\", color=\"orange\")\n",
    "      else:\n",
    "        g.edge(str(u), str(v), dir=\"forward\", penwidth=\"2\", color=\"orange\")\n",
    "      added.add(f\"{u},{v}\")\n",
    "      added.add(f\"{v},{u}\")\n",
    "  if simplepath:\n",
    "    for i in range(len(path) - 1):\n",
    "      u = path[i]\n",
    "      v = path[i + 1]\n",
    "      _addEdge(u, v, weighted)\n",
    "  else:\n",
    "    for u, v in path:\n",
    "      _addEdge(u, v, weighted)\n",
    "  \n",
    "  aux = G.edges.data()\n",
    "  for u, v, dc in aux:\n",
    "    if not f\"{u},{v}\" in added:\n",
    "      added.add(f\"{u},{v}\")\n",
    "      if not directed:\n",
    "        added.add(f\"{v},{u}\")\n",
    "      if weighted:\n",
    "        g.edge(str(u), str(v), str(dc[\"w\"]))\n",
    "      else:\n",
    "        g.edge(str(u), str(v))\n",
    "  return g"
   ]
  },
  {
   "cell_type": "code",
   "execution_count": 395,
   "metadata": {},
   "outputs": [
    {
     "data": {
      "image/svg+xml": [
       "<?xml version=\"1.0\" encoding=\"UTF-8\" standalone=\"no\"?>\n",
       "<!DOCTYPE svg PUBLIC \"-//W3C//DTD SVG 1.1//EN\"\n",
       " \"http://www.w3.org/Graphics/SVG/1.1/DTD/svg11.dtd\">\n",
       "<!-- Generated by graphviz version 8.0.5 (0)\n",
       " -->\n",
       "<!-- Title: G Pages: 1 -->\n",
       "<svg width=\"206pt\" height=\"193pt\"\n",
       " viewBox=\"0.00 0.00 206.21 193.27\" xmlns=\"http://www.w3.org/2000/svg\" xmlns:xlink=\"http://www.w3.org/1999/xlink\">\n",
       "<g id=\"graph0\" class=\"graph\" transform=\"scale(1 1) rotate(0) translate(4 189.27)\">\n",
       "<title>G</title>\n",
       "<polygon fill=\"white\" stroke=\"none\" points=\"-4,4 -4,-189.27 202.21,-189.27 202.21,4 -4,4\"/>\n",
       "<!-- 1 -->\n",
       "<g id=\"node1\" class=\"node\">\n",
       "<title>1</title>\n",
       "<ellipse fill=\"none\" stroke=\"orangered\" cx=\"183.71\" cy=\"-171.13\" rx=\"14.5\" ry=\"14.14\"/>\n",
       "<text text-anchor=\"middle\" x=\"183.71\" y=\"-169.53\" font-family=\"monospace\" font-size=\"8.00\" fill=\"mediumslateblue\">1</text>\n",
       "</g>\n",
       "<!-- 3 -->\n",
       "<g id=\"node3\" class=\"node\">\n",
       "<title>3</title>\n",
       "<ellipse fill=\"none\" stroke=\"orangered\" cx=\"119.34\" cy=\"-14.14\" rx=\"14.5\" ry=\"14.14\"/>\n",
       "<text text-anchor=\"middle\" x=\"119.34\" y=\"-12.54\" font-family=\"monospace\" font-size=\"8.00\" fill=\"mediumslateblue\">3</text>\n",
       "</g>\n",
       "<!-- 1&#45;&#45;3 -->\n",
       "<g id=\"edge2\" class=\"edge\">\n",
       "<title>1&#45;&#45;3</title>\n",
       "<path fill=\"none\" stroke=\"orange\" stroke-width=\"2\" d=\"M178.22,-157.74C167.49,-131.56 143.55,-73.18 129.73,-39.48\"/>\n",
       "<polygon fill=\"orange\" stroke=\"orange\" stroke-width=\"2\" points=\"132.85,-37.42 125.82,-29.49 126.37,-40.07 132.85,-37.42\"/>\n",
       "<text text-anchor=\"middle\" x=\"147.23\" y=\"-103.01\" font-family=\"monospace\" font-size=\"8.00\">0.8</text>\n",
       "</g>\n",
       "<!-- 2 -->\n",
       "<g id=\"node2\" class=\"node\">\n",
       "<title>2</title>\n",
       "<ellipse fill=\"none\" stroke=\"orangered\" cx=\"14.5\" cy=\"-147.94\" rx=\"14.5\" ry=\"14.14\"/>\n",
       "<text text-anchor=\"middle\" x=\"14.5\" y=\"-146.34\" font-family=\"monospace\" font-size=\"8.00\" fill=\"mediumslateblue\">2</text>\n",
       "</g>\n",
       "<!-- 2&#45;&#45;1 -->\n",
       "<g id=\"edge1\" class=\"edge\">\n",
       "<title>2&#45;&#45;1</title>\n",
       "<path fill=\"none\" stroke=\"orange\" stroke-width=\"2\" d=\"M29.22,-149.96C57.59,-153.85 120.25,-162.43 156.45,-167.39\"/>\n",
       "<polygon fill=\"orange\" stroke=\"orange\" stroke-width=\"2\" points=\"156.52,-171.21 166.91,-169.1 157.47,-164.27 156.52,-171.21\"/>\n",
       "<text text-anchor=\"middle\" x=\"86.09\" y=\"-163.07\" font-family=\"monospace\" font-size=\"8.00\">0.5</text>\n",
       "</g>\n",
       "<!-- 2&#45;&#45;3 -->\n",
       "<g id=\"edge3\" class=\"edge\">\n",
       "<title>2&#45;&#45;3</title>\n",
       "<path fill=\"none\" stroke=\"gray\" d=\"M23.43,-136.53C43.24,-111.25 90.64,-50.77 110.43,-25.52\"/>\n",
       "<text text-anchor=\"middle\" x=\"60.18\" y=\"-85.43\" font-family=\"monospace\" font-size=\"8.00\">1.2</text>\n",
       "</g>\n",
       "</g>\n",
       "</svg>\n"
      ],
      "text/plain": [
       "<graphviz.graphs.Graph at 0x7f188ccdf790>"
      ]
     },
     "execution_count": 395,
     "metadata": {},
     "output_type": "execute_result"
    }
   ],
   "source": [
    "adjlShow(G, weighted=True, path=[2, 1, 3], simplepath=True)"
   ]
  },
  {
   "cell_type": "code",
   "execution_count": 396,
   "metadata": {},
   "outputs": [
    {
     "data": {
      "image/svg+xml": [
       "<?xml version=\"1.0\" encoding=\"UTF-8\" standalone=\"no\"?>\n",
       "<!DOCTYPE svg PUBLIC \"-//W3C//DTD SVG 1.1//EN\"\n",
       " \"http://www.w3.org/Graphics/SVG/1.1/DTD/svg11.dtd\">\n",
       "<!-- Generated by graphviz version 8.0.5 (0)\n",
       " -->\n",
       "<!-- Title: G Pages: 1 -->\n",
       "<svg width=\"206pt\" height=\"193pt\"\n",
       " viewBox=\"0.00 0.00 206.21 193.27\" xmlns=\"http://www.w3.org/2000/svg\" xmlns:xlink=\"http://www.w3.org/1999/xlink\">\n",
       "<g id=\"graph0\" class=\"graph\" transform=\"scale(1 1) rotate(0) translate(4 189.27)\">\n",
       "<title>G</title>\n",
       "<polygon fill=\"white\" stroke=\"none\" points=\"-4,4 -4,-189.27 202.21,-189.27 202.21,4 -4,4\"/>\n",
       "<!-- 1 -->\n",
       "<g id=\"node1\" class=\"node\">\n",
       "<title>1</title>\n",
       "<ellipse fill=\"none\" stroke=\"orangered\" cx=\"183.71\" cy=\"-171.13\" rx=\"14.5\" ry=\"14.14\"/>\n",
       "<text text-anchor=\"middle\" x=\"183.71\" y=\"-169.53\" font-family=\"monospace\" font-size=\"8.00\" fill=\"mediumslateblue\">A</text>\n",
       "</g>\n",
       "<!-- 2 -->\n",
       "<g id=\"node2\" class=\"node\">\n",
       "<title>2</title>\n",
       "<ellipse fill=\"none\" stroke=\"orangered\" cx=\"14.5\" cy=\"-147.94\" rx=\"14.5\" ry=\"14.14\"/>\n",
       "<text text-anchor=\"middle\" x=\"14.5\" y=\"-146.34\" font-family=\"monospace\" font-size=\"8.00\" fill=\"mediumslateblue\">B</text>\n",
       "</g>\n",
       "<!-- 1&#45;&#45;2 -->\n",
       "<g id=\"edge1\" class=\"edge\">\n",
       "<title>1&#45;&#45;2</title>\n",
       "<path fill=\"none\" stroke=\"orange\" stroke-width=\"2\" d=\"M168.99,-169.11C140.61,-165.22 77.95,-156.64 41.75,-151.68\"/>\n",
       "<polygon fill=\"orange\" stroke=\"orange\" stroke-width=\"2\" points=\"41.69,-147.86 31.3,-149.97 40.74,-154.79 41.69,-147.86\"/>\n",
       "<text text-anchor=\"middle\" x=\"98.62\" y=\"-164.79\" font-family=\"monospace\" font-size=\"8.00\">0.5</text>\n",
       "</g>\n",
       "<!-- 3 -->\n",
       "<g id=\"node3\" class=\"node\">\n",
       "<title>3</title>\n",
       "<ellipse fill=\"none\" stroke=\"orangered\" cx=\"119.34\" cy=\"-14.14\" rx=\"14.5\" ry=\"14.14\"/>\n",
       "<text text-anchor=\"middle\" x=\"119.34\" y=\"-12.54\" font-family=\"monospace\" font-size=\"8.00\" fill=\"mediumslateblue\">C</text>\n",
       "</g>\n",
       "<!-- 1&#45;&#45;3 -->\n",
       "<g id=\"edge2\" class=\"edge\">\n",
       "<title>1&#45;&#45;3</title>\n",
       "<path fill=\"none\" stroke=\"orange\" stroke-width=\"2\" d=\"M178.22,-157.74C167.49,-131.56 143.55,-73.18 129.73,-39.48\"/>\n",
       "<polygon fill=\"orange\" stroke=\"orange\" stroke-width=\"2\" points=\"132.85,-37.42 125.82,-29.49 126.37,-40.07 132.85,-37.42\"/>\n",
       "<text text-anchor=\"middle\" x=\"147.23\" y=\"-103.01\" font-family=\"monospace\" font-size=\"8.00\">0.8</text>\n",
       "</g>\n",
       "<!-- 3&#45;&#45;2 -->\n",
       "<g id=\"edge3\" class=\"edge\">\n",
       "<title>3&#45;&#45;2</title>\n",
       "<path fill=\"none\" stroke=\"orange\" stroke-width=\"2\" d=\"M110.4,-25.55C92.92,-47.87 53.93,-97.62 31.42,-126.35\"/>\n",
       "<polygon fill=\"orange\" stroke=\"orange\" stroke-width=\"2\" points=\"27.83,-124.53 24.41,-134.56 33.34,-128.85 27.83,-124.53\"/>\n",
       "<text text-anchor=\"middle\" x=\"64.16\" y=\"-80.35\" font-family=\"monospace\" font-size=\"8.00\">1.2</text>\n",
       "</g>\n",
       "</g>\n",
       "</svg>\n"
      ],
      "text/plain": [
       "<graphviz.graphs.Graph at 0x7f188cbd3b90>"
      ]
     },
     "execution_count": 396,
     "metadata": {},
     "output_type": "execute_result"
    }
   ],
   "source": [
    "adjlShow(G, labels=\"ABC\", weighted=True, path=[(1, 2), (1, 3), (3, 2)], simplepath=False)"
   ]
  },
  {
   "cell_type": "code",
   "execution_count": 397,
   "metadata": {},
   "outputs": [
    {
     "data": {
      "image/svg+xml": [
       "<?xml version=\"1.0\" encoding=\"UTF-8\" standalone=\"no\"?>\n",
       "<!DOCTYPE svg PUBLIC \"-//W3C//DTD SVG 1.1//EN\"\n",
       " \"http://www.w3.org/Graphics/SVG/1.1/DTD/svg11.dtd\">\n",
       "<!-- Generated by graphviz version 8.0.5 (0)\n",
       " -->\n",
       "<!-- Title: G Pages: 1 -->\n",
       "<svg width=\"206pt\" height=\"193pt\"\n",
       " viewBox=\"0.00 0.00 206.21 193.27\" xmlns=\"http://www.w3.org/2000/svg\" xmlns:xlink=\"http://www.w3.org/1999/xlink\">\n",
       "<g id=\"graph0\" class=\"graph\" transform=\"scale(1 1) rotate(0) translate(4 189.27)\">\n",
       "<title>G</title>\n",
       "<polygon fill=\"white\" stroke=\"none\" points=\"-4,4 -4,-189.27 202.21,-189.27 202.21,4 -4,4\"/>\n",
       "<!-- 1 -->\n",
       "<g id=\"node1\" class=\"node\">\n",
       "<title>1</title>\n",
       "<ellipse fill=\"none\" stroke=\"orangered\" cx=\"183.71\" cy=\"-171.13\" rx=\"14.5\" ry=\"14.14\"/>\n",
       "<text text-anchor=\"middle\" x=\"183.71\" y=\"-169.53\" font-family=\"monospace\" font-size=\"8.00\" fill=\"mediumslateblue\">1</text>\n",
       "</g>\n",
       "<!-- 3 -->\n",
       "<g id=\"node3\" class=\"node\">\n",
       "<title>3</title>\n",
       "<ellipse fill=\"none\" stroke=\"orangered\" cx=\"119.34\" cy=\"-14.14\" rx=\"14.5\" ry=\"14.14\"/>\n",
       "<text text-anchor=\"middle\" x=\"119.34\" y=\"-12.54\" font-family=\"monospace\" font-size=\"8.00\" fill=\"mediumslateblue\">3</text>\n",
       "</g>\n",
       "<!-- 1&#45;&#45;3 -->\n",
       "<g id=\"edge2\" class=\"edge\">\n",
       "<title>1&#45;&#45;3</title>\n",
       "<path fill=\"none\" stroke=\"orange\" stroke-width=\"2\" d=\"M178.22,-157.74C167.49,-131.56 143.55,-73.18 129.73,-39.48\"/>\n",
       "<polygon fill=\"orange\" stroke=\"orange\" stroke-width=\"2\" points=\"132.85,-37.42 125.82,-29.49 126.37,-40.07 132.85,-37.42\"/>\n",
       "<text text-anchor=\"middle\" x=\"147.23\" y=\"-103.01\" font-family=\"monospace\" font-size=\"8.00\">0.8</text>\n",
       "</g>\n",
       "<!-- 2 -->\n",
       "<g id=\"node2\" class=\"node\">\n",
       "<title>2</title>\n",
       "<ellipse fill=\"none\" stroke=\"orangered\" cx=\"14.5\" cy=\"-147.94\" rx=\"14.5\" ry=\"14.14\"/>\n",
       "<text text-anchor=\"middle\" x=\"14.5\" y=\"-146.34\" font-family=\"monospace\" font-size=\"8.00\" fill=\"mediumslateblue\">2</text>\n",
       "</g>\n",
       "<!-- 2&#45;&#45;1 -->\n",
       "<g id=\"edge1\" class=\"edge\">\n",
       "<title>2&#45;&#45;1</title>\n",
       "<path fill=\"none\" stroke=\"orange\" stroke-width=\"2\" d=\"M29.22,-149.96C57.59,-153.85 120.25,-162.43 156.45,-167.39\"/>\n",
       "<polygon fill=\"orange\" stroke=\"orange\" stroke-width=\"2\" points=\"156.52,-171.21 166.91,-169.1 157.47,-164.27 156.52,-171.21\"/>\n",
       "<text text-anchor=\"middle\" x=\"86.09\" y=\"-163.07\" font-family=\"monospace\" font-size=\"8.00\">0.5</text>\n",
       "</g>\n",
       "<!-- 2&#45;&#45;3 -->\n",
       "<g id=\"edge3\" class=\"edge\">\n",
       "<title>2&#45;&#45;3</title>\n",
       "<path fill=\"none\" stroke=\"gray\" d=\"M23.43,-136.53C43.24,-111.25 90.64,-50.77 110.43,-25.52\"/>\n",
       "<text text-anchor=\"middle\" x=\"60.18\" y=\"-85.43\" font-family=\"monospace\" font-size=\"8.00\">1.2</text>\n",
       "</g>\n",
       "</g>\n",
       "</svg>\n"
      ],
      "text/plain": [
       "<graphviz.graphs.Graph at 0x7f188d016550>"
      ]
     },
     "execution_count": 397,
     "metadata": {},
     "output_type": "execute_result"
    }
   ],
   "source": [
    "adjlShow(F, weighted=True, path=[2, 1, 3], simplepath=True)"
   ]
  },
  {
   "cell_type": "code",
   "execution_count": 398,
   "metadata": {},
   "outputs": [
    {
     "data": {
      "image/svg+xml": [
       "<?xml version=\"1.0\" encoding=\"UTF-8\" standalone=\"no\"?>\n",
       "<!DOCTYPE svg PUBLIC \"-//W3C//DTD SVG 1.1//EN\"\n",
       " \"http://www.w3.org/Graphics/SVG/1.1/DTD/svg11.dtd\">\n",
       "<!-- Generated by graphviz version 8.0.5 (0)\n",
       " -->\n",
       "<!-- Title: G Pages: 1 -->\n",
       "<svg width=\"311pt\" height=\"153pt\"\n",
       " viewBox=\"0.00 0.00 311.16 152.57\" xmlns=\"http://www.w3.org/2000/svg\" xmlns:xlink=\"http://www.w3.org/1999/xlink\">\n",
       "<g id=\"graph0\" class=\"graph\" transform=\"scale(1 1) rotate(0) translate(4 148.57)\">\n",
       "<title>G</title>\n",
       "<polygon fill=\"white\" stroke=\"none\" points=\"-4,4 -4,-148.57 307.16,-148.57 307.16,4 -4,4\"/>\n",
       "<!-- 1 -->\n",
       "<g id=\"node1\" class=\"node\">\n",
       "<title>1</title>\n",
       "<ellipse fill=\"none\" stroke=\"orangered\" cx=\"286.85\" cy=\"-14.14\" rx=\"14.5\" ry=\"14.14\"/>\n",
       "<text text-anchor=\"middle\" x=\"286.85\" y=\"-12.54\" font-family=\"monospace\" font-size=\"8.00\" fill=\"mediumslateblue\">1</text>\n",
       "</g>\n",
       "<!-- 3 -->\n",
       "<g id=\"node3\" class=\"node\">\n",
       "<title>3</title>\n",
       "<ellipse fill=\"none\" stroke=\"orangered\" cx=\"288.67\" cy=\"-130.43\" rx=\"14.5\" ry=\"14.14\"/>\n",
       "<text text-anchor=\"middle\" x=\"288.67\" y=\"-128.83\" font-family=\"monospace\" font-size=\"8.00\" fill=\"mediumslateblue\">3</text>\n",
       "</g>\n",
       "<!-- 1&#45;&#45;3 -->\n",
       "<g id=\"edge2\" class=\"edge\">\n",
       "<title>1&#45;&#45;3</title>\n",
       "<path fill=\"none\" stroke=\"orange\" stroke-width=\"2\" d=\"M287.07,-28.4C287.36,-46.97 287.88,-79.82 288.24,-103.23\"/>\n",
       "<polygon fill=\"orange\" stroke=\"orange\" stroke-width=\"2\" points=\"284.79,-103.11 288.44,-113.05 291.78,-103 284.79,-103.11\"/>\n",
       "<text text-anchor=\"middle\" x=\"280.91\" y=\"-70.21\" font-family=\"monospace\" font-size=\"8.00\">1.0</text>\n",
       "</g>\n",
       "<!-- 2 -->\n",
       "<g id=\"node2\" class=\"node\">\n",
       "<title>2</title>\n",
       "<ellipse fill=\"none\" stroke=\"orangered\" cx=\"164.63\" cy=\"-72.36\" rx=\"14.5\" ry=\"14.14\"/>\n",
       "<text text-anchor=\"middle\" x=\"164.63\" y=\"-70.76\" font-family=\"monospace\" font-size=\"8.00\" fill=\"mediumslateblue\">2</text>\n",
       "</g>\n",
       "<!-- 2&#45;&#45;1 -->\n",
       "<g id=\"edge1\" class=\"edge\">\n",
       "<title>2&#45;&#45;1</title>\n",
       "<path fill=\"none\" stroke=\"orange\" stroke-width=\"2\" d=\"M177.71,-66.13C197.73,-56.59 236.32,-38.21 261.84,-26.06\"/>\n",
       "<polygon fill=\"orange\" stroke=\"orange\" stroke-width=\"2\" points=\"263.97,-28.96 271.49,-21.5 260.96,-22.64 263.97,-28.96\"/>\n",
       "<text text-anchor=\"middle\" x=\"213.02\" y=\"-50.49\" font-family=\"monospace\" font-size=\"8.00\">1.0</text>\n",
       "</g>\n",
       "<!-- 2&#45;&#45;3 -->\n",
       "<g id=\"edge3\" class=\"edge\">\n",
       "<title>2&#45;&#45;3</title>\n",
       "<path fill=\"none\" stroke=\"gray\" d=\"M177.91,-78.57C201.78,-89.75 251.68,-113.12 275.49,-124.26\"/>\n",
       "<text text-anchor=\"middle\" x=\"219.95\" y=\"-105.82\" font-family=\"monospace\" font-size=\"8.00\">1.0</text>\n",
       "</g>\n",
       "<!-- 4 -->\n",
       "<g id=\"node4\" class=\"node\">\n",
       "<title>4</title>\n",
       "<ellipse fill=\"none\" stroke=\"orangered\" cx=\"14.5\" cy=\"-72.88\" rx=\"14.5\" ry=\"14.14\"/>\n",
       "<text text-anchor=\"middle\" x=\"14.5\" y=\"-71.28\" font-family=\"monospace\" font-size=\"8.00\" fill=\"mediumslateblue\">4</text>\n",
       "</g>\n",
       "<!-- 2&#45;&#45;4 -->\n",
       "<g id=\"edge4\" class=\"edge\">\n",
       "<title>2&#45;&#45;4</title>\n",
       "<path fill=\"none\" stroke=\"gray\" d=\"M149.69,-72.41C120.91,-72.51 58.11,-72.73 29.38,-72.83\"/>\n",
       "<text text-anchor=\"middle\" x=\"82.78\" y=\"-77.02\" font-family=\"monospace\" font-size=\"8.00\">1.0</text>\n",
       "</g>\n",
       "</g>\n",
       "</svg>\n"
      ],
      "text/plain": [
       "<graphviz.graphs.Graph at 0x7f188cbd0250>"
      ]
     },
     "execution_count": 398,
     "metadata": {},
     "output_type": "execute_result"
    }
   ],
   "source": [
    "adjlShow(H, weighted=True, path=[2, 1, 3], simplepath=True)"
   ]
  }
 ],
 "metadata": {
  "kernelspec": {
   "display_name": "Python 3",
   "language": "python",
   "name": "python3"
  },
  "language_info": {
   "codemirror_mode": {
    "name": "ipython",
    "version": 3
   },
   "file_extension": ".py",
   "mimetype": "text/x-python",
   "name": "python",
   "nbconvert_exporter": "python",
   "pygments_lexer": "ipython3",
   "version": "3.11.3"
  },
  "orig_nbformat": 4
 },
 "nbformat": 4,
 "nbformat_minor": 2
}
